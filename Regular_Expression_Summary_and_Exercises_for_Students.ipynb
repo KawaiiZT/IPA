{
  "nbformat": 4,
  "nbformat_minor": 0,
  "metadata": {
    "colab": {
      "provenance": [],
      "include_colab_link": true
    },
    "kernelspec": {
      "name": "python3",
      "display_name": "Python 3"
    },
    "language_info": {
      "name": "python"
    }
  },
  "cells": [
    {
      "cell_type": "markdown",
      "metadata": {
        "id": "view-in-github",
        "colab_type": "text"
      },
      "source": [
        "<a href=\"https://colab.research.google.com/github/KawaiiZT/IPA/blob/main/Regular_Expression_Summary_and_Exercises_for_Students.ipynb\" target=\"_parent\"><img src=\"https://colab.research.google.com/assets/colab-badge.svg\" alt=\"Open In Colab\"/></a>"
      ]
    },
    {
      "cell_type": "markdown",
      "source": [
        "# Regular Expression (re)"
      ],
      "metadata": {
        "id": "wc7QQAjr_kna"
      }
    },
    {
      "cell_type": "markdown",
      "source": [
        "Ref: https://pyneng.readthedocs.io/en/latest/book/Part_III.html"
      ],
      "metadata": {
        "id": "QGLGb7OQeL20"
      }
    },
    {
      "cell_type": "markdown",
      "source": [
        "Regular expressions can be used, for example, to:\n",
        "- After processing the output of show version command, you can collect information about OS version and uptime.\n",
        "- get from log file the lines that correspond to the template.\n",
        "- get from configuration those interfaces that do not have a description"
      ],
      "metadata": {
        "id": "w68trT70zzF9"
      }
    },
    {
      "cell_type": "code",
      "execution_count": 1,
      "metadata": {
        "id": "X5epCM7Kajki"
      },
      "outputs": [],
      "source": [
        "import re"
      ]
    },
    {
      "cell_type": "markdown",
      "source": [
        "Python uses re module to work with regular expressions.\n",
        "\n",
        "Core functions of re module:\n",
        "- match - searches a sequence at the beginning of the line\n",
        "- search - searches for first match with template\n",
        "- findall - searches for all matches with template. Returns the resulting strings as a list\n",
        "- finditer - searches for any matches with template. Returns an iterator\n",
        "- compile - compiles regex. You can then apply all of listed functions to this object\n",
        "- fullmatch - the entire line must conform to regex described\n",
        "\n",
        "In addition to functions that search matches, module has the following functions:\n",
        "- re.sub - for replacement in strings\n",
        "- re.split - to split string into parts"
      ],
      "metadata": {
        "id": "3XnBdF6Dp1FR"
      }
    },
    {
      "cell_type": "markdown",
      "source": [
        "Syntax of search function is:\n",
        "match = re.search(pattern, string, flags=0)\n",
        "\n",
        "Function search has three parameters:\n",
        "1.   pattern - regular expression\n",
        "2.   string - string in which search pattern is searched\n",
        "3.   flags - change regex behavior\n"
      ],
      "metadata": {
        "id": "dFYo3d9pt046"
      }
    },
    {
      "cell_type": "code",
      "source": [
        "help(re)"
      ],
      "metadata": {
        "id": "7R2VukqWzipq",
        "colab": {
          "base_uri": "https://localhost:8080/"
        },
        "outputId": "09a31e61-900d-45da-b5c0-e0f959a52bb6"
      },
      "execution_count": 2,
      "outputs": [
        {
          "output_type": "stream",
          "name": "stdout",
          "text": [
            "Help on package re:\n",
            "\n",
            "NAME\n",
            "    re - Support for regular expressions (RE).\n",
            "\n",
            "MODULE REFERENCE\n",
            "    https://docs.python.org/3.11/library/re.html\n",
            "    \n",
            "    The following documentation is automatically generated from the Python\n",
            "    source files.  It may be incomplete, incorrect or include features that\n",
            "    are considered implementation detail and may vary between Python\n",
            "    implementations.  When in doubt, consult the module reference at the\n",
            "    location listed above.\n",
            "\n",
            "DESCRIPTION\n",
            "    This module provides regular expression matching operations similar to\n",
            "    those found in Perl.  It supports both 8-bit and Unicode strings; both\n",
            "    the pattern and the strings being processed can contain null bytes and\n",
            "    characters outside the US ASCII range.\n",
            "    \n",
            "    Regular expressions can contain both special and ordinary characters.\n",
            "    Most ordinary characters, like \"A\", \"a\", or \"0\", are the simplest\n",
            "    regular expressions; they simply match themselves.  You can\n",
            "    concatenate ordinary characters, so last matches the string 'last'.\n",
            "    \n",
            "    The special characters are:\n",
            "        \".\"      Matches any character except a newline.\n",
            "        \"^\"      Matches the start of the string.\n",
            "        \"$\"      Matches the end of the string or just before the newline at\n",
            "                 the end of the string.\n",
            "        \"*\"      Matches 0 or more (greedy) repetitions of the preceding RE.\n",
            "                 Greedy means that it will match as many repetitions as possible.\n",
            "        \"+\"      Matches 1 or more (greedy) repetitions of the preceding RE.\n",
            "        \"?\"      Matches 0 or 1 (greedy) of the preceding RE.\n",
            "        *?,+?,?? Non-greedy versions of the previous three special characters.\n",
            "        {m,n}    Matches from m to n repetitions of the preceding RE.\n",
            "        {m,n}?   Non-greedy version of the above.\n",
            "        \"\\\\\"     Either escapes special characters or signals a special sequence.\n",
            "        []       Indicates a set of characters.\n",
            "                 A \"^\" as the first character indicates a complementing set.\n",
            "        \"|\"      A|B, creates an RE that will match either A or B.\n",
            "        (...)    Matches the RE inside the parentheses.\n",
            "                 The contents can be retrieved or matched later in the string.\n",
            "        (?aiLmsux) The letters set the corresponding flags defined below.\n",
            "        (?:...)  Non-grouping version of regular parentheses.\n",
            "        (?P<name>...) The substring matched by the group is accessible by name.\n",
            "        (?P=name)     Matches the text matched earlier by the group named name.\n",
            "        (?#...)  A comment; ignored.\n",
            "        (?=...)  Matches if ... matches next, but doesn't consume the string.\n",
            "        (?!...)  Matches if ... doesn't match next.\n",
            "        (?<=...) Matches if preceded by ... (must be fixed length).\n",
            "        (?<!...) Matches if not preceded by ... (must be fixed length).\n",
            "        (?(id/name)yes|no) Matches yes pattern if the group with id/name matched,\n",
            "                           the (optional) no pattern otherwise.\n",
            "    \n",
            "    The special sequences consist of \"\\\\\" and a character from the list\n",
            "    below.  If the ordinary character is not on the list, then the\n",
            "    resulting RE will match the second character.\n",
            "        \\number  Matches the contents of the group of the same number.\n",
            "        \\A       Matches only at the start of the string.\n",
            "        \\Z       Matches only at the end of the string.\n",
            "        \\b       Matches the empty string, but only at the start or end of a word.\n",
            "        \\B       Matches the empty string, but not at the start or end of a word.\n",
            "        \\d       Matches any decimal digit; equivalent to the set [0-9] in\n",
            "                 bytes patterns or string patterns with the ASCII flag.\n",
            "                 In string patterns without the ASCII flag, it will match the whole\n",
            "                 range of Unicode digits.\n",
            "        \\D       Matches any non-digit character; equivalent to [^\\d].\n",
            "        \\s       Matches any whitespace character; equivalent to [ \\t\\n\\r\\f\\v] in\n",
            "                 bytes patterns or string patterns with the ASCII flag.\n",
            "                 In string patterns without the ASCII flag, it will match the whole\n",
            "                 range of Unicode whitespace characters.\n",
            "        \\S       Matches any non-whitespace character; equivalent to [^\\s].\n",
            "        \\w       Matches any alphanumeric character; equivalent to [a-zA-Z0-9_]\n",
            "                 in bytes patterns or string patterns with the ASCII flag.\n",
            "                 In string patterns without the ASCII flag, it will match the\n",
            "                 range of Unicode alphanumeric characters (letters plus digits\n",
            "                 plus underscore).\n",
            "                 With LOCALE, it will match the set [0-9_] plus characters defined\n",
            "                 as letters for the current locale.\n",
            "        \\W       Matches the complement of \\w.\n",
            "        \\\\       Matches a literal backslash.\n",
            "    \n",
            "    This module exports the following functions:\n",
            "        match     Match a regular expression pattern to the beginning of a string.\n",
            "        fullmatch Match a regular expression pattern to all of a string.\n",
            "        search    Search a string for the presence of a pattern.\n",
            "        sub       Substitute occurrences of a pattern found in a string.\n",
            "        subn      Same as sub, but also return the number of substitutions made.\n",
            "        split     Split a string by the occurrences of a pattern.\n",
            "        findall   Find all occurrences of a pattern in a string.\n",
            "        finditer  Return an iterator yielding a Match object for each match.\n",
            "        compile   Compile a pattern into a Pattern object.\n",
            "        purge     Clear the regular expression cache.\n",
            "        escape    Backslash all non-alphanumerics in a string.\n",
            "    \n",
            "    Each function other than purge and escape can take an optional 'flags' argument\n",
            "    consisting of one or more of the following module constants, joined by \"|\".\n",
            "    A, L, and U are mutually exclusive.\n",
            "        A  ASCII       For string patterns, make \\w, \\W, \\b, \\B, \\d, \\D\n",
            "                       match the corresponding ASCII character categories\n",
            "                       (rather than the whole Unicode categories, which is the\n",
            "                       default).\n",
            "                       For bytes patterns, this flag is the only available\n",
            "                       behaviour and needn't be specified.\n",
            "        I  IGNORECASE  Perform case-insensitive matching.\n",
            "        L  LOCALE      Make \\w, \\W, \\b, \\B, dependent on the current locale.\n",
            "        M  MULTILINE   \"^\" matches the beginning of lines (after a newline)\n",
            "                       as well as the string.\n",
            "                       \"$\" matches the end of lines (before a newline) as well\n",
            "                       as the end of the string.\n",
            "        S  DOTALL      \".\" matches any character at all, including the newline.\n",
            "        X  VERBOSE     Ignore whitespace and comments for nicer looking RE's.\n",
            "        U  UNICODE     For compatibility only. Ignored for string patterns (it\n",
            "                       is the default), and forbidden for bytes patterns.\n",
            "    \n",
            "    This module also defines an exception 'error'.\n",
            "\n",
            "PACKAGE CONTENTS\n",
            "    _casefix\n",
            "    _compiler\n",
            "    _constants\n",
            "    _parser\n",
            "\n",
            "CLASSES\n",
            "    builtins.Exception(builtins.BaseException)\n",
            "        error\n",
            "    builtins.object\n",
            "        Match\n",
            "        Pattern\n",
            "    enum.IntFlag(builtins.int, enum.ReprEnum, enum.Flag)\n",
            "        RegexFlag\n",
            "    \n",
            "    class Match(builtins.object)\n",
            "     |  The result of re.match() and re.search().\n",
            "     |  Match objects always have a boolean value of True.\n",
            "     |  \n",
            "     |  Methods defined here:\n",
            "     |  \n",
            "     |  __copy__(self, /)\n",
            "     |  \n",
            "     |  __deepcopy__(self, memo, /)\n",
            "     |  \n",
            "     |  __getitem__(self, key, /)\n",
            "     |      Return self[key].\n",
            "     |  \n",
            "     |  __repr__(self, /)\n",
            "     |      Return repr(self).\n",
            "     |  \n",
            "     |  end(self, group=0, /)\n",
            "     |      Return index of the end of the substring matched by group.\n",
            "     |  \n",
            "     |  expand(self, /, template)\n",
            "     |      Return the string obtained by doing backslash substitution on the string template, as done by the sub() method.\n",
            "     |  \n",
            "     |  group(...)\n",
            "     |      group([group1, ...]) -> str or tuple.\n",
            "     |      Return subgroup(s) of the match by indices or names.\n",
            "     |      For 0 returns the entire match.\n",
            "     |  \n",
            "     |  groupdict(self, /, default=None)\n",
            "     |      Return a dictionary containing all the named subgroups of the match, keyed by the subgroup name.\n",
            "     |      \n",
            "     |      default\n",
            "     |        Is used for groups that did not participate in the match.\n",
            "     |  \n",
            "     |  groups(self, /, default=None)\n",
            "     |      Return a tuple containing all the subgroups of the match, from 1.\n",
            "     |      \n",
            "     |      default\n",
            "     |        Is used for groups that did not participate in the match.\n",
            "     |  \n",
            "     |  span(self, group=0, /)\n",
            "     |      For match object m, return the 2-tuple (m.start(group), m.end(group)).\n",
            "     |  \n",
            "     |  start(self, group=0, /)\n",
            "     |      Return index of the start of the substring matched by group.\n",
            "     |  \n",
            "     |  ----------------------------------------------------------------------\n",
            "     |  Class methods defined here:\n",
            "     |  \n",
            "     |  __class_getitem__(...)\n",
            "     |      See PEP 585\n",
            "     |  \n",
            "     |  ----------------------------------------------------------------------\n",
            "     |  Data descriptors defined here:\n",
            "     |  \n",
            "     |  endpos\n",
            "     |      The index into the string beyond which the RE engine will not go.\n",
            "     |  \n",
            "     |  lastgroup\n",
            "     |      The name of the last matched capturing group.\n",
            "     |  \n",
            "     |  lastindex\n",
            "     |      The integer index of the last matched capturing group.\n",
            "     |  \n",
            "     |  pos\n",
            "     |      The index into the string at which the RE engine started looking for a match.\n",
            "     |  \n",
            "     |  re\n",
            "     |      The regular expression object.\n",
            "     |  \n",
            "     |  regs\n",
            "     |  \n",
            "     |  string\n",
            "     |      The string passed to match() or search().\n",
            "    \n",
            "    class Pattern(builtins.object)\n",
            "     |  Compiled regular expression object.\n",
            "     |  \n",
            "     |  Methods defined here:\n",
            "     |  \n",
            "     |  __copy__(self, /)\n",
            "     |  \n",
            "     |  __deepcopy__(self, memo, /)\n",
            "     |  \n",
            "     |  __eq__(self, value, /)\n",
            "     |      Return self==value.\n",
            "     |  \n",
            "     |  __ge__(self, value, /)\n",
            "     |      Return self>=value.\n",
            "     |  \n",
            "     |  __gt__(self, value, /)\n",
            "     |      Return self>value.\n",
            "     |  \n",
            "     |  __hash__(self, /)\n",
            "     |      Return hash(self).\n",
            "     |  \n",
            "     |  __le__(self, value, /)\n",
            "     |      Return self<=value.\n",
            "     |  \n",
            "     |  __lt__(self, value, /)\n",
            "     |      Return self<value.\n",
            "     |  \n",
            "     |  __ne__(self, value, /)\n",
            "     |      Return self!=value.\n",
            "     |  \n",
            "     |  __repr__(self, /)\n",
            "     |      Return repr(self).\n",
            "     |  \n",
            "     |  findall(self, /, string, pos=0, endpos=9223372036854775807)\n",
            "     |      Return a list of all non-overlapping matches of pattern in string.\n",
            "     |  \n",
            "     |  finditer(self, /, string, pos=0, endpos=9223372036854775807)\n",
            "     |      Return an iterator over all non-overlapping matches for the RE pattern in string.\n",
            "     |      \n",
            "     |      For each match, the iterator returns a match object.\n",
            "     |  \n",
            "     |  fullmatch(self, /, string, pos=0, endpos=9223372036854775807)\n",
            "     |      Matches against all of the string.\n",
            "     |  \n",
            "     |  match(self, /, string, pos=0, endpos=9223372036854775807)\n",
            "     |      Matches zero or more characters at the beginning of the string.\n",
            "     |  \n",
            "     |  scanner(self, /, string, pos=0, endpos=9223372036854775807)\n",
            "     |  \n",
            "     |  search(self, /, string, pos=0, endpos=9223372036854775807)\n",
            "     |      Scan through string looking for a match, and return a corresponding match object instance.\n",
            "     |      \n",
            "     |      Return None if no position in the string matches.\n",
            "     |  \n",
            "     |  split(self, /, string, maxsplit=0)\n",
            "     |      Split string by the occurrences of pattern.\n",
            "     |  \n",
            "     |  sub(self, /, repl, string, count=0)\n",
            "     |      Return the string obtained by replacing the leftmost non-overlapping occurrences of pattern in string by the replacement repl.\n",
            "     |  \n",
            "     |  subn(self, /, repl, string, count=0)\n",
            "     |      Return the tuple (new_string, number_of_subs_made) found by replacing the leftmost non-overlapping occurrences of pattern with the replacement repl.\n",
            "     |  \n",
            "     |  ----------------------------------------------------------------------\n",
            "     |  Class methods defined here:\n",
            "     |  \n",
            "     |  __class_getitem__(...)\n",
            "     |      See PEP 585\n",
            "     |  \n",
            "     |  ----------------------------------------------------------------------\n",
            "     |  Data descriptors defined here:\n",
            "     |  \n",
            "     |  flags\n",
            "     |      The regex matching flags.\n",
            "     |  \n",
            "     |  groupindex\n",
            "     |      A dictionary mapping group names to group numbers.\n",
            "     |  \n",
            "     |  groups\n",
            "     |      The number of capturing groups in the pattern.\n",
            "     |  \n",
            "     |  pattern\n",
            "     |      The pattern string from which the RE object was compiled.\n",
            "    \n",
            "    class RegexFlag(enum.IntFlag)\n",
            "     |  RegexFlag(value, names=None, *, module=None, qualname=None, type=None, start=1, boundary=None)\n",
            "     |  \n",
            "     |  An enumeration.\n",
            "     |  \n",
            "     |  Method resolution order:\n",
            "     |      RegexFlag\n",
            "     |      enum.IntFlag\n",
            "     |      builtins.int\n",
            "     |      enum.ReprEnum\n",
            "     |      enum.Flag\n",
            "     |      enum.Enum\n",
            "     |      builtins.object\n",
            "     |  \n",
            "     |  Methods defined here:\n",
            "     |  \n",
            "     |  __and__(self, other) from enum.Flag\n",
            "     |  \n",
            "     |  __format__(self, format_spec, /) from builtins.int\n",
            "     |      Default object formatter.\n",
            "     |  \n",
            "     |  __invert__(self) from enum.Flag\n",
            "     |  \n",
            "     |  __new__(cls, value) from enum.Enum\n",
            "     |      Create and return a new object.  See help(type) for accurate signature.\n",
            "     |  \n",
            "     |  __or__(self, other) from enum.Flag\n",
            "     |      Return self|value.\n",
            "     |  \n",
            "     |  __rand__ = __and__(self, other)\n",
            "     |  \n",
            "     |  __repr__ = global_flag_repr(self) from enum\n",
            "     |      use module.flag_name instead of class.flag_name\n",
            "     |      \n",
            "     |      the module is the last module in case of a multi-module name\n",
            "     |  \n",
            "     |  __ror__ = __or__(self, other)\n",
            "     |  \n",
            "     |  __rxor__ = __xor__(self, other)\n",
            "     |  \n",
            "     |  __str__(self, /) from builtins.object\n",
            "     |      Return str(self).\n",
            "     |  \n",
            "     |  __xor__(self, other) from enum.Flag\n",
            "     |  \n",
            "     |  ----------------------------------------------------------------------\n",
            "     |  Data and other attributes defined here:\n",
            "     |  \n",
            "     |  ASCII = re.ASCII\n",
            "     |  \n",
            "     |  DEBUG = re.DEBUG\n",
            "     |  \n",
            "     |  DOTALL = re.DOTALL\n",
            "     |  \n",
            "     |  IGNORECASE = re.IGNORECASE\n",
            "     |  \n",
            "     |  LOCALE = re.LOCALE\n",
            "     |  \n",
            "     |  MULTILINE = re.MULTILINE\n",
            "     |  \n",
            "     |  TEMPLATE = re.TEMPLATE\n",
            "     |  \n",
            "     |  UNICODE = re.UNICODE\n",
            "     |  \n",
            "     |  VERBOSE = re.VERBOSE\n",
            "     |  \n",
            "     |  ----------------------------------------------------------------------\n",
            "     |  Methods inherited from builtins.int:\n",
            "     |  \n",
            "     |  __abs__(self, /)\n",
            "     |      abs(self)\n",
            "     |  \n",
            "     |  __add__(self, value, /)\n",
            "     |      Return self+value.\n",
            "     |  \n",
            "     |  __bool__(self, /)\n",
            "     |      True if self else False\n",
            "     |  \n",
            "     |  __ceil__(...)\n",
            "     |      Ceiling of an Integral returns itself.\n",
            "     |  \n",
            "     |  __divmod__(self, value, /)\n",
            "     |      Return divmod(self, value).\n",
            "     |  \n",
            "     |  __eq__(self, value, /)\n",
            "     |      Return self==value.\n",
            "     |  \n",
            "     |  __float__(self, /)\n",
            "     |      float(self)\n",
            "     |  \n",
            "     |  __floor__(...)\n",
            "     |      Flooring an Integral returns itself.\n",
            "     |  \n",
            "     |  __floordiv__(self, value, /)\n",
            "     |      Return self//value.\n",
            "     |  \n",
            "     |  __ge__(self, value, /)\n",
            "     |      Return self>=value.\n",
            "     |  \n",
            "     |  __getattribute__(self, name, /)\n",
            "     |      Return getattr(self, name).\n",
            "     |  \n",
            "     |  __getnewargs__(self, /)\n",
            "     |  \n",
            "     |  __gt__(self, value, /)\n",
            "     |      Return self>value.\n",
            "     |  \n",
            "     |  __hash__(self, /)\n",
            "     |      Return hash(self).\n",
            "     |  \n",
            "     |  __index__(self, /)\n",
            "     |      Return self converted to an integer, if self is suitable for use as an index into a list.\n",
            "     |  \n",
            "     |  __int__(self, /)\n",
            "     |      int(self)\n",
            "     |  \n",
            "     |  __le__(self, value, /)\n",
            "     |      Return self<=value.\n",
            "     |  \n",
            "     |  __lshift__(self, value, /)\n",
            "     |      Return self<<value.\n",
            "     |  \n",
            "     |  __lt__(self, value, /)\n",
            "     |      Return self<value.\n",
            "     |  \n",
            "     |  __mod__(self, value, /)\n",
            "     |      Return self%value.\n",
            "     |  \n",
            "     |  __mul__(self, value, /)\n",
            "     |      Return self*value.\n",
            "     |  \n",
            "     |  __ne__(self, value, /)\n",
            "     |      Return self!=value.\n",
            "     |  \n",
            "     |  __neg__(self, /)\n",
            "     |      -self\n",
            "     |  \n",
            "     |  __pos__(self, /)\n",
            "     |      +self\n",
            "     |  \n",
            "     |  __pow__(self, value, mod=None, /)\n",
            "     |      Return pow(self, value, mod).\n",
            "     |  \n",
            "     |  __radd__(self, value, /)\n",
            "     |      Return value+self.\n",
            "     |  \n",
            "     |  __rdivmod__(self, value, /)\n",
            "     |      Return divmod(value, self).\n",
            "     |  \n",
            "     |  __rfloordiv__(self, value, /)\n",
            "     |      Return value//self.\n",
            "     |  \n",
            "     |  __rlshift__(self, value, /)\n",
            "     |      Return value<<self.\n",
            "     |  \n",
            "     |  __rmod__(self, value, /)\n",
            "     |      Return value%self.\n",
            "     |  \n",
            "     |  __rmul__(self, value, /)\n",
            "     |      Return value*self.\n",
            "     |  \n",
            "     |  __round__(...)\n",
            "     |      Rounding an Integral returns itself.\n",
            "     |      \n",
            "     |      Rounding with an ndigits argument also returns an integer.\n",
            "     |  \n",
            "     |  __rpow__(self, value, mod=None, /)\n",
            "     |      Return pow(value, self, mod).\n",
            "     |  \n",
            "     |  __rrshift__(self, value, /)\n",
            "     |      Return value>>self.\n",
            "     |  \n",
            "     |  __rshift__(self, value, /)\n",
            "     |      Return self>>value.\n",
            "     |  \n",
            "     |  __rsub__(self, value, /)\n",
            "     |      Return value-self.\n",
            "     |  \n",
            "     |  __rtruediv__(self, value, /)\n",
            "     |      Return value/self.\n",
            "     |  \n",
            "     |  __sizeof__(self, /)\n",
            "     |      Returns size in memory, in bytes.\n",
            "     |  \n",
            "     |  __sub__(self, value, /)\n",
            "     |      Return self-value.\n",
            "     |  \n",
            "     |  __truediv__(self, value, /)\n",
            "     |      Return self/value.\n",
            "     |  \n",
            "     |  __trunc__(...)\n",
            "     |      Truncating an Integral returns itself.\n",
            "     |  \n",
            "     |  as_integer_ratio(self, /)\n",
            "     |      Return integer ratio.\n",
            "     |      \n",
            "     |      Return a pair of integers, whose ratio is exactly equal to the original int\n",
            "     |      and with a positive denominator.\n",
            "     |      \n",
            "     |      >>> (10).as_integer_ratio()\n",
            "     |      (10, 1)\n",
            "     |      >>> (-10).as_integer_ratio()\n",
            "     |      (-10, 1)\n",
            "     |      >>> (0).as_integer_ratio()\n",
            "     |      (0, 1)\n",
            "     |  \n",
            "     |  bit_count(self, /)\n",
            "     |      Number of ones in the binary representation of the absolute value of self.\n",
            "     |      \n",
            "     |      Also known as the population count.\n",
            "     |      \n",
            "     |      >>> bin(13)\n",
            "     |      '0b1101'\n",
            "     |      >>> (13).bit_count()\n",
            "     |      3\n",
            "     |  \n",
            "     |  bit_length(self, /)\n",
            "     |      Number of bits necessary to represent self in binary.\n",
            "     |      \n",
            "     |      >>> bin(37)\n",
            "     |      '0b100101'\n",
            "     |      >>> (37).bit_length()\n",
            "     |      6\n",
            "     |  \n",
            "     |  conjugate(...)\n",
            "     |      Returns self, the complex conjugate of any int.\n",
            "     |  \n",
            "     |  to_bytes(self, /, length=1, byteorder='big', *, signed=False)\n",
            "     |      Return an array of bytes representing an integer.\n",
            "     |      \n",
            "     |      length\n",
            "     |        Length of bytes object to use.  An OverflowError is raised if the\n",
            "     |        integer is not representable with the given number of bytes.  Default\n",
            "     |        is length 1.\n",
            "     |      byteorder\n",
            "     |        The byte order used to represent the integer.  If byteorder is 'big',\n",
            "     |        the most significant byte is at the beginning of the byte array.  If\n",
            "     |        byteorder is 'little', the most significant byte is at the end of the\n",
            "     |        byte array.  To request the native byte order of the host system, use\n",
            "     |        `sys.byteorder' as the byte order value.  Default is to use 'big'.\n",
            "     |      signed\n",
            "     |        Determines whether two's complement is used to represent the integer.\n",
            "     |        If signed is False and a negative integer is given, an OverflowError\n",
            "     |        is raised.\n",
            "     |  \n",
            "     |  ----------------------------------------------------------------------\n",
            "     |  Class methods inherited from builtins.int:\n",
            "     |  \n",
            "     |  from_bytes(bytes, byteorder='big', *, signed=False)\n",
            "     |      Return the integer represented by the given array of bytes.\n",
            "     |      \n",
            "     |      bytes\n",
            "     |        Holds the array of bytes to convert.  The argument must either\n",
            "     |        support the buffer protocol or be an iterable object producing bytes.\n",
            "     |        Bytes and bytearray are examples of built-in objects that support the\n",
            "     |        buffer protocol.\n",
            "     |      byteorder\n",
            "     |        The byte order used to represent the integer.  If byteorder is 'big',\n",
            "     |        the most significant byte is at the beginning of the byte array.  If\n",
            "     |        byteorder is 'little', the most significant byte is at the end of the\n",
            "     |        byte array.  To request the native byte order of the host system, use\n",
            "     |        `sys.byteorder' as the byte order value.  Default is to use 'big'.\n",
            "     |      signed\n",
            "     |        Indicates whether two's complement is used to represent the integer.\n",
            "     |  \n",
            "     |  ----------------------------------------------------------------------\n",
            "     |  Data descriptors inherited from builtins.int:\n",
            "     |  \n",
            "     |  denominator\n",
            "     |      the denominator of a rational number in lowest terms\n",
            "     |  \n",
            "     |  imag\n",
            "     |      the imaginary part of a complex number\n",
            "     |  \n",
            "     |  numerator\n",
            "     |      the numerator of a rational number in lowest terms\n",
            "     |  \n",
            "     |  real\n",
            "     |      the real part of a complex number\n",
            "     |  \n",
            "     |  ----------------------------------------------------------------------\n",
            "     |  Methods inherited from enum.Flag:\n",
            "     |  \n",
            "     |  __contains__(self, other)\n",
            "     |      Returns True if self has at least the same flags set as other.\n",
            "     |  \n",
            "     |  __iter__(self)\n",
            "     |      Returns flags in definition order.\n",
            "     |  \n",
            "     |  __len__(self)\n",
            "     |      Return the number of members (no aliases)\n",
            "     |  \n",
            "     |  ----------------------------------------------------------------------\n",
            "     |  Methods inherited from enum.Enum:\n",
            "     |  \n",
            "     |  __dir__(self)\n",
            "     |      Returns public methods and other interesting attributes.\n",
            "     |  \n",
            "     |  __init__(self, *args, **kwds)\n",
            "     |      Initialize self.  See help(type(self)) for accurate signature.\n",
            "     |  \n",
            "     |  __reduce_ex__(self, proto)\n",
            "     |      Helper for pickle.\n",
            "     |  \n",
            "     |  ----------------------------------------------------------------------\n",
            "     |  Data descriptors inherited from enum.Enum:\n",
            "     |  \n",
            "     |  name\n",
            "     |      The name of the Enum member.\n",
            "     |  \n",
            "     |  value\n",
            "     |      The value of the Enum member.\n",
            "     |  \n",
            "     |  ----------------------------------------------------------------------\n",
            "     |  Static methods inherited from enum.EnumType:\n",
            "     |  \n",
            "     |  __getitem__(name)\n",
            "     |      Return the member matching `name`.\n",
            "     |  \n",
            "     |  ----------------------------------------------------------------------\n",
            "     |  Readonly properties inherited from enum.EnumType:\n",
            "     |  \n",
            "     |  __members__\n",
            "     |      Returns a mapping of member name->value.\n",
            "     |      \n",
            "     |      This mapping lists all enum members, including aliases. Note that this\n",
            "     |      is a read-only view of the internal mapping.\n",
            "    \n",
            "    class error(builtins.Exception)\n",
            "     |  error(msg, pattern=None, pos=None)\n",
            "     |  \n",
            "     |  Exception raised for invalid regular expressions.\n",
            "     |  \n",
            "     |  Attributes:\n",
            "     |  \n",
            "     |      msg: The unformatted error message\n",
            "     |      pattern: The regular expression pattern\n",
            "     |      pos: The index in the pattern where compilation failed (may be None)\n",
            "     |      lineno: The line corresponding to pos (may be None)\n",
            "     |      colno: The column corresponding to pos (may be None)\n",
            "     |  \n",
            "     |  Method resolution order:\n",
            "     |      error\n",
            "     |      builtins.Exception\n",
            "     |      builtins.BaseException\n",
            "     |      builtins.object\n",
            "     |  \n",
            "     |  Methods defined here:\n",
            "     |  \n",
            "     |  __init__(self, msg, pattern=None, pos=None) from re._constants.error\n",
            "     |      Initialize self.  See help(type(self)) for accurate signature.\n",
            "     |  \n",
            "     |  ----------------------------------------------------------------------\n",
            "     |  Data descriptors defined here:\n",
            "     |  \n",
            "     |  __weakref__\n",
            "     |      list of weak references to the object\n",
            "     |  \n",
            "     |  ----------------------------------------------------------------------\n",
            "     |  Static methods inherited from builtins.Exception:\n",
            "     |  \n",
            "     |  __new__(*args, **kwargs) class method of builtins.Exception\n",
            "     |      Create and return a new object.  See help(type) for accurate signature.\n",
            "     |  \n",
            "     |  ----------------------------------------------------------------------\n",
            "     |  Methods inherited from builtins.BaseException:\n",
            "     |  \n",
            "     |  __delattr__(self, name, /)\n",
            "     |      Implement delattr(self, name).\n",
            "     |  \n",
            "     |  __getattribute__(self, name, /)\n",
            "     |      Return getattr(self, name).\n",
            "     |  \n",
            "     |  __reduce__(...)\n",
            "     |      Helper for pickle.\n",
            "     |  \n",
            "     |  __repr__(self, /)\n",
            "     |      Return repr(self).\n",
            "     |  \n",
            "     |  __setattr__(self, name, value, /)\n",
            "     |      Implement setattr(self, name, value).\n",
            "     |  \n",
            "     |  __setstate__(...)\n",
            "     |  \n",
            "     |  __str__(self, /)\n",
            "     |      Return str(self).\n",
            "     |  \n",
            "     |  add_note(...)\n",
            "     |      Exception.add_note(note) --\n",
            "     |      add a note to the exception\n",
            "     |  \n",
            "     |  with_traceback(...)\n",
            "     |      Exception.with_traceback(tb) --\n",
            "     |      set self.__traceback__ to tb and return self.\n",
            "     |  \n",
            "     |  ----------------------------------------------------------------------\n",
            "     |  Data descriptors inherited from builtins.BaseException:\n",
            "     |  \n",
            "     |  __cause__\n",
            "     |      exception cause\n",
            "     |  \n",
            "     |  __context__\n",
            "     |      exception context\n",
            "     |  \n",
            "     |  __dict__\n",
            "     |  \n",
            "     |  __suppress_context__\n",
            "     |  \n",
            "     |  __traceback__\n",
            "     |  \n",
            "     |  args\n",
            "\n",
            "FUNCTIONS\n",
            "    compile(pattern, flags=0)\n",
            "        Compile a regular expression pattern, returning a Pattern object.\n",
            "    \n",
            "    escape(pattern)\n",
            "        Escape special characters in a string.\n",
            "    \n",
            "    findall(pattern, string, flags=0)\n",
            "        Return a list of all non-overlapping matches in the string.\n",
            "        \n",
            "        If one or more capturing groups are present in the pattern, return\n",
            "        a list of groups; this will be a list of tuples if the pattern\n",
            "        has more than one group.\n",
            "        \n",
            "        Empty matches are included in the result.\n",
            "    \n",
            "    finditer(pattern, string, flags=0)\n",
            "        Return an iterator over all non-overlapping matches in the\n",
            "        string.  For each match, the iterator returns a Match object.\n",
            "        \n",
            "        Empty matches are included in the result.\n",
            "    \n",
            "    fullmatch(pattern, string, flags=0)\n",
            "        Try to apply the pattern to all of the string, returning\n",
            "        a Match object, or None if no match was found.\n",
            "    \n",
            "    match(pattern, string, flags=0)\n",
            "        Try to apply the pattern at the start of the string, returning\n",
            "        a Match object, or None if no match was found.\n",
            "    \n",
            "    purge()\n",
            "        Clear the regular expression caches\n",
            "    \n",
            "    search(pattern, string, flags=0)\n",
            "        Scan through string looking for a match to the pattern, returning\n",
            "        a Match object, or None if no match was found.\n",
            "    \n",
            "    split(pattern, string, maxsplit=0, flags=0)\n",
            "        Split the source string by the occurrences of the pattern,\n",
            "        returning a list containing the resulting substrings.  If\n",
            "        capturing parentheses are used in pattern, then the text of all\n",
            "        groups in the pattern are also returned as part of the resulting\n",
            "        list.  If maxsplit is nonzero, at most maxsplit splits occur,\n",
            "        and the remainder of the string is returned as the final element\n",
            "        of the list.\n",
            "    \n",
            "    sub(pattern, repl, string, count=0, flags=0)\n",
            "        Return the string obtained by replacing the leftmost\n",
            "        non-overlapping occurrences of the pattern in string by the\n",
            "        replacement repl.  repl can be either a string or a callable;\n",
            "        if a string, backslash escapes in it are processed.  If it is\n",
            "        a callable, it's passed the Match object and must return\n",
            "        a replacement string to be used.\n",
            "    \n",
            "    subn(pattern, repl, string, count=0, flags=0)\n",
            "        Return a 2-tuple containing (new_string, number).\n",
            "        new_string is the string obtained by replacing the leftmost\n",
            "        non-overlapping occurrences of the pattern in the source\n",
            "        string by the replacement repl.  number is the number of\n",
            "        substitutions that were made. repl can be either a string or a\n",
            "        callable; if a string, backslash escapes in it are processed.\n",
            "        If it is a callable, it's passed the Match object and must\n",
            "        return a replacement string to be used.\n",
            "    \n",
            "    template(pattern, flags=0)\n",
            "        Compile a template pattern, returning a Pattern object, deprecated\n",
            "\n",
            "DATA\n",
            "    A = re.ASCII\n",
            "    ASCII = re.ASCII\n",
            "    DOTALL = re.DOTALL\n",
            "    I = re.IGNORECASE\n",
            "    IGNORECASE = re.IGNORECASE\n",
            "    L = re.LOCALE\n",
            "    LOCALE = re.LOCALE\n",
            "    M = re.MULTILINE\n",
            "    MULTILINE = re.MULTILINE\n",
            "    NOFLAG = re.NOFLAG\n",
            "    S = re.DOTALL\n",
            "    U = re.UNICODE\n",
            "    UNICODE = re.UNICODE\n",
            "    VERBOSE = re.VERBOSE\n",
            "    X = re.VERBOSE\n",
            "    __all__ = ['match', 'fullmatch', 'search', 'sub', 'subn', 'split', 'fi...\n",
            "\n",
            "VERSION\n",
            "    2.2.1\n",
            "\n",
            "FILE\n",
            "    /usr/lib/python3.11/re/__init__.py\n",
            "\n",
            "\n"
          ]
        }
      ]
    },
    {
      "cell_type": "code",
      "source": [
        "int_line = '  MTU 1500 bytes, BW 10000 Kbit, DLY 1000 usec,'"
      ],
      "metadata": {
        "id": "ShJFp7ASdsAc"
      },
      "execution_count": 3,
      "outputs": []
    },
    {
      "cell_type": "markdown",
      "source": [
        "In re module, several functions return **Match** object if a match is found:\n",
        "\n",
        "- search\n",
        "\n",
        "- match\n",
        "\n",
        "- finditer - returns an iterator with Match objects\n",
        "\n"
      ],
      "metadata": {
        "id": "vspufVfdUa6T"
      }
    },
    {
      "cell_type": "code",
      "source": [
        "match = re.search('MTU', int_line)\n",
        "type(match)"
      ],
      "metadata": {
        "id": "HmrvPGbceAkU",
        "colab": {
          "base_uri": "https://localhost:8080/"
        },
        "outputId": "92e0b25b-66e9-47d1-afcd-5ace67d4cfa2"
      },
      "execution_count": 4,
      "outputs": [
        {
          "output_type": "execute_result",
          "data": {
            "text/plain": [
              "re.Match"
            ]
          },
          "metadata": {},
          "execution_count": 4
        }
      ]
    },
    {
      "cell_type": "code",
      "source": [
        "match = re.search('MU', int_line)\n",
        "type(match)"
      ],
      "metadata": {
        "id": "LV153B3keHeM",
        "colab": {
          "base_uri": "https://localhost:8080/"
        },
        "outputId": "1c5c3e08-3bce-4ecd-ac5b-41a737759f95"
      },
      "execution_count": 5,
      "outputs": [
        {
          "output_type": "execute_result",
          "data": {
            "text/plain": [
              "NoneType"
            ]
          },
          "metadata": {},
          "execution_count": 5
        }
      ]
    },
    {
      "cell_type": "markdown",
      "source": [
        "If a match is found, function will return special object **Match**. If there is no match, function will return\n",
        "**None**."
      ],
      "metadata": {
        "id": "Wqud0D7MuFkB"
      }
    },
    {
      "cell_type": "code",
      "source": [
        "match = re.search('MTU', int_line)\n",
        "print(match)"
      ],
      "metadata": {
        "id": "y7r_LWc00Za0",
        "colab": {
          "base_uri": "https://localhost:8080/"
        },
        "outputId": "19be6b81-9459-4dd5-96a4-d7d1dc38f487"
      },
      "execution_count": 6,
      "outputs": [
        {
          "output_type": "stream",
          "name": "stdout",
          "text": [
            "<re.Match object; span=(2, 5), match='MTU'>\n"
          ]
        }
      ]
    },
    {
      "cell_type": "code",
      "source": [
        "match.span()"
      ],
      "metadata": {
        "id": "kV0UFRCx0orm",
        "colab": {
          "base_uri": "https://localhost:8080/"
        },
        "outputId": "def44be4-5400-457b-c962-99f8eef38155"
      },
      "execution_count": 8,
      "outputs": [
        {
          "output_type": "execute_result",
          "data": {
            "text/plain": [
              "(2, 5)"
            ]
          },
          "metadata": {},
          "execution_count": 8
        }
      ]
    },
    {
      "cell_type": "code",
      "source": [
        "match.span()[0]"
      ],
      "metadata": {
        "id": "HTuR8bKLmVf7",
        "colab": {
          "base_uri": "https://localhost:8080/"
        },
        "outputId": "952fee27-8008-4842-ac86-36d7645594e8"
      },
      "execution_count": 9,
      "outputs": [
        {
          "output_type": "execute_result",
          "data": {
            "text/plain": [
              "2"
            ]
          },
          "metadata": {},
          "execution_count": 9
        }
      ]
    },
    {
      "cell_type": "code",
      "source": [
        "match.span()[1]"
      ],
      "metadata": {
        "id": "nOoPhMiOmZin",
        "colab": {
          "base_uri": "https://localhost:8080/"
        },
        "outputId": "120a3bb1-76ce-473d-fce1-3549d9d99d01"
      },
      "execution_count": 10,
      "outputs": [
        {
          "output_type": "execute_result",
          "data": {
            "text/plain": [
              "5"
            ]
          },
          "metadata": {},
          "execution_count": 10
        }
      ]
    },
    {
      "cell_type": "code",
      "source": [
        "int_line[match.span()[0]:match.span()[1]]"
      ],
      "metadata": {
        "id": "E-DAuCuU0xRn",
        "colab": {
          "base_uri": "https://localhost:8080/",
          "height": 35
        },
        "outputId": "ec8e30ef-bdcc-433a-c279-3c24236d8992"
      },
      "execution_count": 11,
      "outputs": [
        {
          "output_type": "execute_result",
          "data": {
            "text/plain": [
              "'MTU'"
            ],
            "application/vnd.google.colaboratory.intrinsic+json": {
              "type": "string"
            }
          },
          "metadata": {},
          "execution_count": 11
        }
      ]
    },
    {
      "cell_type": "markdown",
      "source": [
        "Much more convinient way"
      ],
      "metadata": {
        "id": "GQs52MKome74"
      }
    },
    {
      "cell_type": "code",
      "source": [
        "match.group()"
      ],
      "metadata": {
        "id": "LIJ3g_Or1kzA",
        "colab": {
          "base_uri": "https://localhost:8080/",
          "height": 35
        },
        "outputId": "fd212a7d-273f-478d-879e-b78a53eabaf0"
      },
      "execution_count": 7,
      "outputs": [
        {
          "output_type": "execute_result",
          "data": {
            "text/plain": [
              "'MTU'"
            ],
            "application/vnd.google.colaboratory.intrinsic+json": {
              "type": "string"
            }
          },
          "metadata": {},
          "execution_count": 7
        }
      ]
    },
    {
      "cell_type": "markdown",
      "source": [
        "Python has special designations for character sets:\n",
        "- \\d - any digit\n",
        "- \\D - any non-numeric value\n",
        "- \\s - whitespace character\n",
        "- \\S - all except whitespace characters\n",
        "- \\w - any letter, digit or underline character\n",
        "- \\W - all except letter, digit or underline character"
      ],
      "metadata": {
        "id": "xkV3zjJ2udoH"
      }
    },
    {
      "cell_type": "markdown",
      "source": [
        "Repeating character sets:\n",
        "- regex+ - one or more repetitions of preceding element\n",
        "- regex* - zero or more repetitions of preceding element\n",
        "- regex? – zero or one repetition of preceding element\n",
        "- regex{n} - exactly n repetitions of preceding element\n",
        "- regex{n,m} - from n to m repetitions of preceding element\n",
        "- regex{n,} - n or more repetitions of preceding element"
      ],
      "metadata": {
        "id": "ZbCerxbIweeZ"
      }
    },
    {
      "cell_type": "code",
      "source": [
        "match = re.search('MTU \\d+', int_line)"
      ],
      "metadata": {
        "id": "rwf64v8t07F4"
      },
      "execution_count": 12,
      "outputs": []
    },
    {
      "cell_type": "code",
      "source": [
        "match.group()"
      ],
      "metadata": {
        "id": "afSjNu8p2Uxi",
        "colab": {
          "base_uri": "https://localhost:8080/",
          "height": 35
        },
        "outputId": "2fa3fe3c-dced-4ba6-94d6-a2a090752038"
      },
      "execution_count": 13,
      "outputs": [
        {
          "output_type": "execute_result",
          "data": {
            "text/plain": [
              "'MTU 1500'"
            ],
            "application/vnd.google.colaboratory.intrinsic+json": {
              "type": "string"
            }
          },
          "metadata": {},
          "execution_count": 13
        }
      ]
    },
    {
      "cell_type": "code",
      "source": [
        "match.group(0)"
      ],
      "metadata": {
        "id": "r3gz5sOhm_ds",
        "colab": {
          "base_uri": "https://localhost:8080/",
          "height": 35
        },
        "outputId": "de478d9e-7eb4-41fc-9b60-67512f1af064"
      },
      "execution_count": 14,
      "outputs": [
        {
          "output_type": "execute_result",
          "data": {
            "text/plain": [
              "'MTU 1500'"
            ],
            "application/vnd.google.colaboratory.intrinsic+json": {
              "type": "string"
            }
          },
          "metadata": {},
          "execution_count": 14
        }
      ]
    },
    {
      "cell_type": "code",
      "source": [
        "match.group(1)"
      ],
      "metadata": {
        "id": "6qXg6Usel99I",
        "colab": {
          "base_uri": "https://localhost:8080/",
          "height": 141
        },
        "outputId": "165164fd-5e43-4191-826a-8005b2647b4a"
      },
      "execution_count": 15,
      "outputs": [
        {
          "output_type": "error",
          "ename": "IndexError",
          "evalue": "no such group",
          "traceback": [
            "\u001b[0;31m---------------------------------------------------------------------------\u001b[0m",
            "\u001b[0;31mIndexError\u001b[0m                                Traceback (most recent call last)",
            "\u001b[0;32m/tmp/ipython-input-15-1158675654.py\u001b[0m in \u001b[0;36m<cell line: 0>\u001b[0;34m()\u001b[0m\n\u001b[0;32m----> 1\u001b[0;31m \u001b[0mmatch\u001b[0m\u001b[0;34m.\u001b[0m\u001b[0mgroup\u001b[0m\u001b[0;34m(\u001b[0m\u001b[0;36m1\u001b[0m\u001b[0;34m)\u001b[0m\u001b[0;34m\u001b[0m\u001b[0;34m\u001b[0m\u001b[0m\n\u001b[0m",
            "\u001b[0;31mIndexError\u001b[0m: no such group"
          ]
        }
      ]
    },
    {
      "cell_type": "code",
      "source": [
        "match = re.search('MTU (\\d+)', int_line)"
      ],
      "metadata": {
        "id": "LqJmdE8E21OL"
      },
      "execution_count": 16,
      "outputs": []
    },
    {
      "cell_type": "code",
      "source": [
        "match.group()"
      ],
      "metadata": {
        "id": "ez8Paq4B24pA",
        "colab": {
          "base_uri": "https://localhost:8080/",
          "height": 35
        },
        "outputId": "805b1d48-207f-4f44-a365-227aaa8009f3"
      },
      "execution_count": 17,
      "outputs": [
        {
          "output_type": "execute_result",
          "data": {
            "text/plain": [
              "'MTU 1500'"
            ],
            "application/vnd.google.colaboratory.intrinsic+json": {
              "type": "string"
            }
          },
          "metadata": {},
          "execution_count": 17
        }
      ]
    },
    {
      "cell_type": "code",
      "source": [
        "match.group(0)"
      ],
      "metadata": {
        "id": "fVxtF8hy27kE",
        "colab": {
          "base_uri": "https://localhost:8080/",
          "height": 35
        },
        "outputId": "738b1961-ffd5-4e1b-f495-e94251aff1f8"
      },
      "execution_count": 18,
      "outputs": [
        {
          "output_type": "execute_result",
          "data": {
            "text/plain": [
              "'MTU 1500'"
            ],
            "application/vnd.google.colaboratory.intrinsic+json": {
              "type": "string"
            }
          },
          "metadata": {},
          "execution_count": 18
        }
      ]
    },
    {
      "cell_type": "code",
      "source": [
        "match.group(1)"
      ],
      "metadata": {
        "id": "JM2vFVLu2-Gq",
        "colab": {
          "base_uri": "https://localhost:8080/",
          "height": 35
        },
        "outputId": "1a0965a5-dc7e-421d-b182-d36c51120ddd"
      },
      "execution_count": 19,
      "outputs": [
        {
          "output_type": "execute_result",
          "data": {
            "text/plain": [
              "'1500'"
            ],
            "application/vnd.google.colaboratory.intrinsic+json": {
              "type": "string"
            }
          },
          "metadata": {},
          "execution_count": 19
        }
      ]
    },
    {
      "cell_type": "code",
      "source": [
        "match.group(2)"
      ],
      "metadata": {
        "id": "EsMvk0VC2V3Z",
        "colab": {
          "base_uri": "https://localhost:8080/",
          "height": 141
        },
        "outputId": "76fa0c11-2785-4df7-ac56-0c268ea53dd6"
      },
      "execution_count": 20,
      "outputs": [
        {
          "output_type": "error",
          "ename": "IndexError",
          "evalue": "no such group",
          "traceback": [
            "\u001b[0;31m---------------------------------------------------------------------------\u001b[0m",
            "\u001b[0;31mIndexError\u001b[0m                                Traceback (most recent call last)",
            "\u001b[0;32m/tmp/ipython-input-20-102023188.py\u001b[0m in \u001b[0;36m<cell line: 0>\u001b[0;34m()\u001b[0m\n\u001b[0;32m----> 1\u001b[0;31m \u001b[0mmatch\u001b[0m\u001b[0;34m.\u001b[0m\u001b[0mgroup\u001b[0m\u001b[0;34m(\u001b[0m\u001b[0;36m2\u001b[0m\u001b[0;34m)\u001b[0m\u001b[0;34m\u001b[0m\u001b[0;34m\u001b[0m\u001b[0m\n\u001b[0m",
            "\u001b[0;31mIndexError\u001b[0m: no such group"
          ]
        }
      ]
    },
    {
      "cell_type": "code",
      "source": [
        "line = '100 aab1.a1a1.a5d3 FastEthernet0/1'\n",
        "re.search('a1+', line).group()"
      ],
      "metadata": {
        "id": "HNXxczlFvBQY",
        "colab": {
          "base_uri": "https://localhost:8080/",
          "height": 35
        },
        "outputId": "89748e73-0d95-492b-8f80-110420cc38d2"
      },
      "execution_count": 21,
      "outputs": [
        {
          "output_type": "execute_result",
          "data": {
            "text/plain": [
              "'a1'"
            ],
            "application/vnd.google.colaboratory.intrinsic+json": {
              "type": "string"
            }
          },
          "metadata": {},
          "execution_count": 21
        }
      ]
    },
    {
      "cell_type": "code",
      "source": [
        "re.search('(a1)+', line).group()"
      ],
      "metadata": {
        "id": "5Iulrdo7wvUD",
        "colab": {
          "base_uri": "https://localhost:8080/",
          "height": 35
        },
        "outputId": "1029d687-40fc-4a66-c4fb-abc03430a043"
      },
      "execution_count": 22,
      "outputs": [
        {
          "output_type": "execute_result",
          "data": {
            "text/plain": [
              "'a1a1'"
            ],
            "application/vnd.google.colaboratory.intrinsic+json": {
              "type": "string"
            }
          },
          "metadata": {},
          "execution_count": 22
        }
      ]
    },
    {
      "cell_type": "markdown",
      "source": [
        "Special symbols\n",
        "- . - any character except new line character\n",
        "- ^ - beginning of line\n",
        "- $ - end of line\n",
        "- [abc] - any symbol in square brackets\n",
        "- [^abc] - any symbol except those in square brackets\n",
        "- a|b - element a or b\n",
        "- (regex) - expression is treated as one element. In addition, substring that matches an expression is memorized"
      ],
      "metadata": {
        "id": "PGuWmFVcxk6b"
      }
    },
    {
      "cell_type": "code",
      "source": [
        "int_line = '  MTU 1500 bytes, BW 10000 Kbit, DLY 1000 usec,'"
      ],
      "metadata": {
        "id": "PnJXeky3m04q"
      },
      "execution_count": 23,
      "outputs": []
    },
    {
      "cell_type": "code",
      "source": [
        "match = re.search('MTU (\\d+) .* BW (\\d+) .* DLY (\\d+)', int_line)"
      ],
      "metadata": {
        "id": "OSbUfIOv4GCR"
      },
      "execution_count": 24,
      "outputs": []
    },
    {
      "cell_type": "code",
      "source": [
        "match.group()"
      ],
      "metadata": {
        "id": "YV3TvJ__4X86",
        "colab": {
          "base_uri": "https://localhost:8080/",
          "height": 35
        },
        "outputId": "1e56dffb-12fc-448b-9921-557414ea9d74"
      },
      "execution_count": 25,
      "outputs": [
        {
          "output_type": "execute_result",
          "data": {
            "text/plain": [
              "'MTU 1500 bytes, BW 10000 Kbit, DLY 1000'"
            ],
            "application/vnd.google.colaboratory.intrinsic+json": {
              "type": "string"
            }
          },
          "metadata": {},
          "execution_count": 25
        }
      ]
    },
    {
      "cell_type": "code",
      "source": [
        "print(match.group(0))\n",
        "print(match.group(1))\n",
        "print(match.group(2))\n",
        "print(match.group(3))"
      ],
      "metadata": {
        "id": "7pIbfu864ZfP",
        "colab": {
          "base_uri": "https://localhost:8080/"
        },
        "outputId": "c5ea0186-ed76-410b-aeef-5da6ceb61d97"
      },
      "execution_count": 26,
      "outputs": [
        {
          "output_type": "stream",
          "name": "stdout",
          "text": [
            "MTU 1500 bytes, BW 10000 Kbit, DLY 1000\n",
            "1500\n",
            "10000\n",
            "1000\n"
          ]
        }
      ]
    },
    {
      "cell_type": "code",
      "source": [
        "match.groups()"
      ],
      "metadata": {
        "id": "0ANXHiLVmpqf",
        "colab": {
          "base_uri": "https://localhost:8080/"
        },
        "outputId": "b0f5377b-cfbe-4ca7-d8e0-7474be855e08"
      },
      "execution_count": 27,
      "outputs": [
        {
          "output_type": "execute_result",
          "data": {
            "text/plain": [
              "('1500', '10000', '1000')"
            ]
          },
          "metadata": {},
          "execution_count": 27
        }
      ]
    },
    {
      "cell_type": "code",
      "source": [
        "print(match.groups()[0])\n",
        "print(match.groups()[1])\n",
        "print(match.groups()[2])"
      ],
      "metadata": {
        "id": "q-oRISXyqOLz",
        "colab": {
          "base_uri": "https://localhost:8080/"
        },
        "outputId": "9ef497b2-d39c-4fb7-fbba-460c79005206"
      },
      "execution_count": 28,
      "outputs": [
        {
          "output_type": "stream",
          "name": "stdout",
          "text": [
            "1500\n",
            "10000\n",
            "1000\n"
          ]
        }
      ]
    },
    {
      "cell_type": "markdown",
      "source": [
        "**Exercise 1**: Find time (HH:MM:SS)"
      ],
      "metadata": {
        "id": "4RLyUb8p5JMi"
      }
    },
    {
      "cell_type": "code",
      "source": [
        "log = '*Jul 7 06:15:18.695: %LINEPROTO-5-UPDOWN: Line protocol on Interface Ethernet0/3, changed state to down'"
      ],
      "metadata": {
        "id": "3J04qNQHhmYB"
      },
      "execution_count": 35,
      "outputs": []
    },
    {
      "cell_type": "code",
      "source": [
        "match = re.search('(\\d\\d:\\d\\d:\\d\\d)', log)"
      ],
      "metadata": {
        "id": "sXu1daN8DtH7"
      },
      "execution_count": 62,
      "outputs": []
    },
    {
      "cell_type": "code",
      "source": [
        "print(match.groups())"
      ],
      "metadata": {
        "colab": {
          "base_uri": "https://localhost:8080/"
        },
        "id": "MiZwA8vgER86",
        "outputId": "56b3dc70-41aa-44e9-a518-e5a30ba792c6"
      },
      "execution_count": 63,
      "outputs": [
        {
          "output_type": "stream",
          "name": "stdout",
          "text": [
            "('06:15:18',)\n"
          ]
        }
      ]
    },
    {
      "cell_type": "markdown",
      "source": [
        "**Exercise 2**: Find MAC address"
      ],
      "metadata": {
        "id": "LpHM48cn8Z5w"
      }
    },
    {
      "cell_type": "code",
      "source": [
        "log2 = 'Jun 3 14:39:05.941: %SW_MATM-4-MACFLAP_NOTIF: Host f03a.b216.7ad7 in vlan 10 is flapping between port Gi0/5 and port Gi0/15'"
      ],
      "metadata": {
        "id": "jraC_ZRTuxgn"
      },
      "execution_count": 64,
      "outputs": []
    },
    {
      "cell_type": "code",
      "source": [
        "match = re.search('.{4}\\..{4}\\..{4}',log2)"
      ],
      "metadata": {
        "id": "ufEe2HXeF0Kj"
      },
      "execution_count": 182,
      "outputs": []
    },
    {
      "cell_type": "code",
      "source": [
        "print(match)"
      ],
      "metadata": {
        "colab": {
          "base_uri": "https://localhost:8080/"
        },
        "id": "sTxdstNaF0aa",
        "outputId": "2f21ec14-ed4a-4df0-a231-a7b86fa25a81"
      },
      "execution_count": 183,
      "outputs": [
        {
          "output_type": "stream",
          "name": "stdout",
          "text": [
            "<re.Match object; span=(51, 65), match='f03a.b216.7ad7'>\n"
          ]
        }
      ]
    },
    {
      "cell_type": "markdown",
      "source": [
        "**Exercise 3**: Find MAC address and Flapping Ports"
      ],
      "metadata": {
        "id": "aQxKt2Rf_zru"
      }
    },
    {
      "cell_type": "code",
      "source": [
        "log3 = 'Jun 3 14:39:05.941: %SW_MATM-4-MACFLAP_NOTIF: Host f03a.b216.7ad7 in vlan 10 is flapping between port Gi0/5 and port Gi0/15'"
      ],
      "metadata": {
        "id": "hP9Qzp1K_7Wq"
      },
      "execution_count": 184,
      "outputs": []
    },
    {
      "cell_type": "code",
      "source": [
        "re.search('([0-9a-f]{4}\\.[0-9a-f]{4}\\.[0-9a-f]{4}) .+ port (\\w+/\\d+) .+ port (\\w+/\\d+)', log3).groups()"
      ],
      "metadata": {
        "colab": {
          "base_uri": "https://localhost:8080/"
        },
        "id": "mYJcHq5rHQ4L",
        "outputId": "34947f25-f0cf-401d-8bbf-a8053475c549"
      },
      "execution_count": 190,
      "outputs": [
        {
          "output_type": "execute_result",
          "data": {
            "text/plain": [
              "('f03a.b216.7ad7', 'Gi0/5', 'Gi0/15')"
            ]
          },
          "metadata": {},
          "execution_count": 190
        }
      ]
    },
    {
      "cell_type": "markdown",
      "source": [
        "**Exercise 4**: Find number of interfaces that are down"
      ],
      "metadata": {
        "id": "4wGM9auNrJCj"
      }
    },
    {
      "cell_type": "code",
      "source": [
        "sh_ip_int_br = \"\"\"Router# show ip interface brief\n",
        "Interface             IP-Address      OK?    Method Status     \tProtocol\n",
        "GigabitEthernet0/1    unassigned      YES    unset  up         \tup\n",
        "GigabitEthernet0/2    192.168.190.235 YES    unset  up         \tup\n",
        "GigabitEthernet0/3    unassigned      YES    unset  up         \tup\n",
        "GigabitEthernet0/4    192.168.191.2   YES    unset  up         \tup\n",
        "TenGigabitEthernet2/1 unassigned      YES    unset  up         \tup\n",
        "TenGigabitEthernet2/2 unassigned      YES    unset  up         \tup\n",
        "TenGigabitEthernet2/3 unassigned      YES    unset  up         \tup\n",
        "TenGigabitEthernet2/4 unassigned      YES    unset  down       \tdown\n",
        "GigabitEthernet36/1   unassigned      YES    unset  down        down\n",
        "GigabitEthernet36/2   unassigned      YES    unset  down        down\n",
        "GigabitEthernet36/11  unassigned      YES    unset  down       \tdown\n",
        "GigabitEthernet36/25  unassigned      YES    unset  down       \tdown\n",
        "Te36/45               unassigned      YES    unset  down       \tdown\n",
        "Te36/46               unassigned      YES    unset  down       \tdown\n",
        "Te36/47               unassigned      YES    unset  down       \tdown\n",
        "Te36/48               unassigned      YES    unset  down       \tdown\n",
        "Virtual36             unassigned      YES    unset  up         \tup\"\"\""
      ],
      "metadata": {
        "id": "R7vaNNRiqteN"
      },
      "execution_count": 191,
      "outputs": []
    },
    {
      "cell_type": "code",
      "source": [
        "match = re.findall('(\\S+\\d+/+\\d+).*down', sh_ip_int_br)\n",
        "print(match)\n",
        "len(match)"
      ],
      "metadata": {
        "colab": {
          "base_uri": "https://localhost:8080/"
        },
        "id": "Cs-fWs1cQjyx",
        "outputId": "584c1b13-02d6-4aec-a75b-e98514c39832"
      },
      "execution_count": 222,
      "outputs": [
        {
          "output_type": "stream",
          "name": "stdout",
          "text": [
            "['TenGigabitEthernet2/4', 'GigabitEthernet36/1', 'GigabitEthernet36/2', 'GigabitEthernet36/11', 'GigabitEthernet36/25', 'Te36/45', 'Te36/46', 'Te36/47', 'Te36/48']\n"
          ]
        },
        {
          "output_type": "execute_result",
          "data": {
            "text/plain": [
              "9"
            ]
          },
          "metadata": {},
          "execution_count": 222
        }
      ]
    },
    {
      "cell_type": "code",
      "source": [
        "match = re.findall('.*down', sh_ip_int_br)\n",
        "len(match)"
      ],
      "metadata": {
        "id": "oPa91dh7canZ",
        "outputId": "1a94a303-ac38-47de-d9a6-322a9fb35d1b",
        "colab": {
          "base_uri": "https://localhost:8080/"
        }
      },
      "execution_count": 237,
      "outputs": [
        {
          "output_type": "execute_result",
          "data": {
            "text/plain": [
              "9"
            ]
          },
          "metadata": {},
          "execution_count": 237
        }
      ]
    },
    {
      "cell_type": "markdown",
      "source": [
        "**Exercise 5**: Show interface name that has an IP address and interface status is up up."
      ],
      "metadata": {
        "id": "MSxnvPID3hC7"
      }
    },
    {
      "cell_type": "code",
      "source": [
        "sh_ip_int_br = \"\"\"Router# show ip interface brief\n",
        "Interface             IP-Address      OK?    Method Status     \tProtocol\n",
        "GigabitEthernet0/1    unassigned      YES    unset  up         \tup\n",
        "GigabitEthernet0/2    192.168.190.235 YES    unset  up         \tup\n",
        "GigabitEthernet0/3    unassigned      YES    unset  up         \tup\n",
        "GigabitEthernet0/4    192.168.191.2   YES    unset  up         \tup\n",
        "TenGigabitEthernet2/1 unassigned      YES    unset  up         \tup\n",
        "TenGigabitEthernet2/2 unassigned      YES    unset  up         \tup\n",
        "TenGigabitEthernet2/3 unassigned      YES    unset  up         \tup\n",
        "TenGigabitEthernet2/4 192.168.192.2   YES    unset  down       \tdown\n",
        "GigabitEthernet36/1   unassigned      YES    unset  down        down\n",
        "GigabitEthernet36/2   unassigned      YES    unset  down        down\n",
        "GigabitEthernet36/11  unassigned      YES    unset  down       \tdown\n",
        "GigabitEthernet36/25  unassigned      YES    unset  down       \tdown\n",
        "Te36/45               unassigned      YES    unset  down       \tdown\n",
        "Te36/46               unassigned      YES    unset  down       \tdown\n",
        "Te36/47               unassigned      YES    unset  down       \tdown\n",
        "Te36/48               unassigned      YES    unset  down       \tdown\n",
        "Virtual36             unassigned      YES    unset  up         \tup\"\"\""
      ],
      "metadata": {
        "id": "6yFN9A_TrcQz"
      },
      "execution_count": null,
      "outputs": []
    },
    {
      "cell_type": "code",
      "source": [
        "match = re.findall('(\\S+\\d+/+\\d+.* \\d+\\.\\d+\\.\\d+\\.\\d+) .*up.*up', sh_ip_int_br)\n",
        "print(match)"
      ],
      "metadata": {
        "id": "aeQHOWgZVx3g",
        "outputId": "e80dd96f-1bb1-422a-9a24-a26658419b8c",
        "colab": {
          "base_uri": "https://localhost:8080/"
        }
      },
      "execution_count": 221,
      "outputs": [
        {
          "output_type": "stream",
          "name": "stdout",
          "text": [
            "['GigabitEthernet0/2    192.168.190.235', 'GigabitEthernet0/4    192.168.191.2']\n"
          ]
        }
      ]
    }
  ]
}