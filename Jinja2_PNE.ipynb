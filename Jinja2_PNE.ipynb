{
  "nbformat": 4,
  "nbformat_minor": 0,
  "metadata": {
    "colab": {
      "provenance": [],
      "collapsed_sections": [
        "NvifTp_mr5eo"
      ],
      "include_colab_link": true
    },
    "kernelspec": {
      "name": "python3",
      "display_name": "Python 3"
    },
    "language_info": {
      "name": "python"
    }
  },
  "cells": [
    {
      "cell_type": "markdown",
      "metadata": {
        "id": "view-in-github",
        "colab_type": "text"
      },
      "source": [
        "<a href=\"https://colab.research.google.com/github/KawaiiZT/IPA/blob/main/Jinja2_PNE.ipynb\" target=\"_parent\"><img src=\"https://colab.research.google.com/assets/colab-badge.svg\" alt=\"Open In Colab\"/></a>"
      ]
    },
    {
      "cell_type": "markdown",
      "source": [
        "# Jinja2: Getting Started"
      ],
      "metadata": {
        "id": "in6qXpnC7cPA"
      }
    },
    {
      "cell_type": "markdown",
      "source": [
        "Jinja2 is a template language used in Python."
      ],
      "metadata": {
        "id": "0_kgommw8glk"
      }
    },
    {
      "cell_type": "markdown",
      "source": [
        "Jinja2 is used to generate documents based on one or more templates.\n",
        "\n",
        "Examples of use:\n",
        "- templates for generating HTML pages\n",
        "- templates for generating configuration files in Unix/Linux\n",
        "- templates for generating network device configuration files"
      ],
      "metadata": {
        "id": "yH6ptHVE8lPk"
      }
    },
    {
      "cell_type": "markdown",
      "source": [
        "The main idea of Jinja is to separate data and template. This allows you to use the same template but not the same data. In the simplest case, template is simply a text file that specifies locations of Jinja variables."
      ],
      "metadata": {
        "id": "J1I7Bd308X4G"
      }
    },
    {
      "cell_type": "markdown",
      "source": [
        "## Preparation"
      ],
      "metadata": {
        "id": "jXKxSJRLpC2w"
      }
    },
    {
      "cell_type": "code",
      "source": [
        "!pip install jinja2"
      ],
      "metadata": {
        "colab": {
          "base_uri": "https://localhost:8080/"
        },
        "id": "Ylye7tY_ChLS",
        "outputId": "b22667da-51da-4968-9ba1-9a76417c60c8"
      },
      "execution_count": 1,
      "outputs": [
        {
          "output_type": "stream",
          "name": "stdout",
          "text": [
            "Requirement already satisfied: jinja2 in /usr/local/lib/python3.11/dist-packages (3.1.6)\n",
            "Requirement already satisfied: MarkupSafe>=2.0 in /usr/local/lib/python3.11/dist-packages (from jinja2) (3.0.2)\n"
          ]
        }
      ]
    },
    {
      "cell_type": "markdown",
      "source": [
        "Upload data_files.zip and templates.zip"
      ],
      "metadata": {
        "id": "dOB7OivKpHhG"
      }
    },
    {
      "cell_type": "code",
      "source": [
        "!unzip data_files.zip\n",
        "!unzip templates.zip"
      ],
      "metadata": {
        "id": "T9M8huAMpGH5",
        "colab": {
          "base_uri": "https://localhost:8080/"
        },
        "outputId": "96e0e2c6-ceae-478a-8046-8afa61232780"
      },
      "execution_count": 3,
      "outputs": [
        {
          "output_type": "stream",
          "name": "stdout",
          "text": [
            "Archive:  data_files.zip\n",
            "replace __MACOSX/._data_files? [y]es, [n]o, [A]ll, [N]one, [r]ename: Archive:  templates.zip\n",
            "replace __MACOSX/._templates? [y]es, [n]o, [A]ll, [N]one, [r]ename: "
          ]
        }
      ]
    },
    {
      "cell_type": "markdown",
      "source": [
        "# Example of using Jinja"
      ],
      "metadata": {
        "id": "idMjS53ZSDhW"
      }
    },
    {
      "cell_type": "markdown",
      "source": [
        "Template templates/router_template.txt is a plain text file: Copy to a file and upload to Google colab."
      ],
      "metadata": {
        "id": "C-tCD0lr84Gw"
      }
    },
    {
      "cell_type": "markdown",
      "source": [
        "```\n",
        "hostname {{name}}\n",
        "!\n",
        "interface Loopback10\n",
        " description MPLS loopback\n",
        " ip address 10.10.{{id}}.1 255.255.255.255\n",
        " !\n",
        "interface GigabitEthernet0/0\n",
        " description WAN to {{name}} sw1 G0/1\n",
        "!\n",
        "interface GigabitEthernet0/0.1{{id}}1\n",
        " description MPLS to {{to_name}}\n",
        " encapsulation dot1Q 1{{id}}1\n",
        " ip address 10.{{id}}.1.2 255.255.255.252\n",
        " ip ospf network point-to-point\n",
        " ip ospf hello-interval 1\n",
        " ip ospf cost 10\n",
        "!\n",
        "interface GigabitEthernet0/1\n",
        " description LAN {{name}} to sw1 G0/2 !\n",
        "interface GigabitEthernet0/1.{{IT}}\n",
        " description PW IT {{name}} - {{to_name}}\n",
        " encapsulation dot1Q {{IT}}\n",
        " xconnect 10.10.{{to_id}}.1 {{id}}11 encapsulation mpls\n",
        " backup peer 10.10.{{to_id}}.2 {{id}}21\n",
        "  backup delay 1 1\n",
        "!\n",
        "interface GigabitEthernet0/1.{{BS}}\n",
        " description PW BS {{name}} - {{to_name}}\n",
        " encapsulation dot1Q {{BS}}\n",
        " xconnect 10.10.{{to_id}}.1 {{to_id}}{{id}}11 encapsulation mpls\n",
        "  backup peer 10.10.{{to_id}}.2 {{to_id}}{{id}}21\n",
        "  backup delay 1 1\n",
        "!\n",
        "router ospf 10\n",
        " router-id 10.10.{{id}}.1\n",
        " auto-cost reference-bandwidth 10000\n",
        " network 10.0.0.0 0.255.255.255 area 0\n",
        "```"
      ],
      "metadata": {
        "id": "8hnYuBQI82Ka"
      }
    },
    {
      "cell_type": "markdown",
      "source": [
        "In Jinja, variables are written in double curly braces.\n",
        "\n",
        "When script is executed, these variables are replaced with desired values."
      ],
      "metadata": {
        "id": "DSQso-_MBx4k"
      }
    },
    {
      "cell_type": "markdown",
      "source": [
        "Data file routers_info.yml: Copy to a file and upload to Google colab.\n",
        "\n",
        "data_files/routers_info.yml"
      ],
      "metadata": {
        "id": "e9-s8IDxFci9"
      }
    },
    {
      "cell_type": "markdown",
      "source": [
        "```\n",
        "- id: 11\n",
        "  name: Liverpool\n",
        "  to_name: LONDON\n",
        "  IT: 791\n",
        "  BS: 1550\n",
        "  to_id: 1\n",
        "\n",
        "- id: 12\n",
        "  name: Bristol\n",
        "  to_name: LONDON\n",
        "  IT: 793\n",
        "  BS: 1510\n",
        "  to_id: 1\n",
        "\n",
        "- id: 14\n",
        "  name: Coventry\n",
        "  to_name: Manchester\n",
        "  IT: 892\n",
        "  BS: 1650\n",
        "  to_id: 2\n",
        "```\n"
      ],
      "metadata": {
        "id": "FmgBv7MYFYwY"
      }
    },
    {
      "cell_type": "markdown",
      "source": [
        "This template can be used to generate configuration of different devices by substituting other sets of variables."
      ],
      "metadata": {
        "id": "8AnpWKaqB5RM"
      }
    },
    {
      "cell_type": "code",
      "source": [
        "from jinja2 import Environment, FileSystemLoader\n",
        "import yaml\n",
        "\n",
        "env = Environment(loader=FileSystemLoader('templates'))\n",
        "template = env.get_template('router_template.txt')\n",
        "\n",
        "with open('data_files/routers_info.yml') as f:\n",
        "    routers = yaml.safe_load(f)\n",
        "\n",
        "for router in routers:\n",
        "    r1_conf = router['name'] + '_r1.txt'\n",
        "    with open(r1_conf, 'w') as f:\n",
        "        f.write(template.render(router))"
      ],
      "metadata": {
        "id": "NwBEkpv08RC-"
      },
      "execution_count": null,
      "outputs": []
    },
    {
      "cell_type": "markdown",
      "source": [
        "File router_config_generator.py imports from jinja2 module:\n",
        "\n",
        "FileSystemLoader - a loader that allows working with a file system path to directory where templates are located is specified here in this case template is in templates directory\n",
        "\n",
        "Environment - a class for describing environment parameters. In this case only loader is specified, but you can specify how to process a template\n",
        "Note that template is now in templates directory."
      ],
      "metadata": {
        "id": "rHC-LgzlEBwb"
      }
    },
    {
      "cell_type": "markdown",
      "source": [
        "# Jinja2 template syntax"
      ],
      "metadata": {
        "id": "qOgDAeIXGWub"
      }
    },
    {
      "cell_type": "markdown",
      "source": [
        "So far, only variable substitution has been used in Jinja2 template examples. This is the simplest and most understandable example of using templates. Syntax of Jinja templates is not limited to this.\n",
        "\n",
        "In Jinja2 templates you can use :\n",
        "\n",
        "- variables\n",
        "- conditions (if/else)\n",
        "- loops (for)\n",
        "- filters - special built-in methods that allow to convert variables\n",
        "- tests - are used to check whether a variable matches a condition\n",
        "\n",
        "In addition, Jinja supports inheritance between templates and also allows adding the contents of one template to another."
      ],
      "metadata": {
        "id": "s6HL8k26Gcfr"
      }
    },
    {
      "cell_type": "markdown",
      "source": [
        "for.txt"
      ],
      "metadata": {
        "id": "Ov_SfYGHJd2C"
      }
    },
    {
      "cell_type": "markdown",
      "source": [
        "```\n",
        "hostname {{ name }}\n",
        "\n",
        "interface Loopback0\n",
        " ip address 10.0.0.{{ id }} 255.255.255.255\n",
        "\n",
        "{% for vlan, name in vlans.items() %}\n",
        "vlan {{ vlan }}\n",
        " name {{ name }}\n",
        "{% endfor %}\n",
        "\n",
        "router ospf 1\n",
        " router-id 10.0.0.{{ id }}\n",
        " auto-cost reference-bandwidth 10000\n",
        "{% for networks in ospf %}\n",
        " network {{ networks.network }} area {{ networks.area }}\n",
        "{% endfor %}\n",
        "```"
      ],
      "metadata": {
        "id": "BJtK9oyuJgOO"
      }
    },
    {
      "cell_type": "markdown",
      "source": [
        "for.yml"
      ],
      "metadata": {
        "id": "hvHdNsqUJuYj"
      }
    },
    {
      "cell_type": "markdown",
      "source": [
        "```\n",
        "id: 3\n",
        "name: R3\n",
        "vlans:\n",
        "  10: Marketing\n",
        "  20: Voice\n",
        "  30: Management\n",
        "ospf:\n",
        "  - network: 10.0.1.0 0.0.0.255\n",
        "    area: 0\n",
        "  - network: 10.0.2.0 0.0.0.255\n",
        "    area: 2\n",
        "  - network: 10.1.1.0 0.0.0.255\n",
        "    area: 0\n",
        "```"
      ],
      "metadata": {
        "id": "jvQUGVy7Jv8A"
      }
    },
    {
      "cell_type": "markdown",
      "source": [
        "Script: cfg_gen.py"
      ],
      "metadata": {
        "id": "MaZmlo9JJyVE"
      }
    },
    {
      "cell_type": "code",
      "source": [
        "from jinja2 import Environment, FileSystemLoader\n",
        "import yaml\n",
        "\n",
        "# python cfg_gen.py\n",
        "# templates/for.txt\n",
        "# data_files/for.yml\n",
        "# template_dir, template_file = os.path.split(sys.argv[1])\n",
        "# vars_file = sys.argv[2]\n",
        "\n",
        "template_dir = \"templates\"\n",
        "template_file = \"templates/for.txt\"\n",
        "vars_file = 'data_files/for.yml'\n",
        "\n",
        "env = Environment(\n",
        "    loader=FileSystemLoader(template_dir),\n",
        "    trim_blocks=True,\n",
        "    lstrip_blocks=True)\n",
        "template = env.get_template(template_file)\n",
        "\n",
        "with open(vars_file) as f:\n",
        "    vars_dict = yaml.safe_load(f)\n",
        "\n",
        "print(template.render(vars_dict))"
      ],
      "metadata": {
        "colab": {
          "base_uri": "https://localhost:8080/"
        },
        "id": "Jq8ZXTKtCd2T",
        "outputId": "b86c6f8f-d661-4dbd-8e3f-553bc290885c"
      },
      "execution_count": null,
      "outputs": [
        {
          "output_type": "stream",
          "name": "stdout",
          "text": [
            "hostname R3\n",
            "\n",
            "interface Loopback0\n",
            " ip address 10.0.0.3 255.255.255.255\n",
            "\n",
            "vlan 10\n",
            " name Marketing\n",
            "vlan 20\n",
            " name Voice\n",
            "vlan 30\n",
            " name Management\n",
            "\n",
            "router ospf 1\n",
            " router-id 10.0.0.3\n",
            " auto-cost reference-bandwidth 10000\n",
            " network 10.0.1.0 0.0.0.255 area 0\n",
            " network 10.0.2.0 0.0.0.255 area 2\n",
            " network 10.1.1.0 0.0.0.255 area 0\n",
            "\n"
          ]
        }
      ]
    },
    {
      "cell_type": "markdown",
      "source": [
        "## Control of whitespace symbols\n"
      ],
      "metadata": {
        "id": "gpju0UpXVTmb"
      }
    },
    {
      "cell_type": "markdown",
      "source": [
        "### trim_blocks, lstrip_blocks"
      ],
      "metadata": {
        "id": "76mxpWWJZhXD"
      }
    },
    {
      "cell_type": "markdown",
      "source": [
        "Parameter trim_blocks removes the first empty line after block if its value is True (default False).\n",
        "\n",
        "Effect of using the flag is showed on example templates/env_flags.txt:\n",
        "\n"
      ],
      "metadata": {
        "id": "7lEbxdm3VhJ0"
      }
    },
    {
      "cell_type": "markdown",
      "source": [
        "```\n",
        "router bgp {{ bgp.local_as }}\n",
        " {% for ibgp in bgp.ibgp_neighbors %}\n",
        " neighbor {{ ibgp }} remote-as {{ bgp.local_as }}\n",
        " neighbor {{ ibgp }} update-source {{ bgp.loopback }}\n",
        " {% endfor %}\n",
        " ```\n"
      ],
      "metadata": {
        "id": "prtvFMAjVjZy"
      }
    },
    {
      "cell_type": "markdown",
      "source": [
        "If cfg_gen.py script starts without trim_blocks, lstrip_blocks:"
      ],
      "metadata": {
        "id": "RmsfrcHwVsqN"
      }
    },
    {
      "cell_type": "code",
      "source": [
        "from jinja2 import Environment, FileSystemLoader\n",
        "import yaml\n",
        "\n",
        "template_dir = \"templates\"\n",
        "template_file = \"env_flags.txt\"\n",
        "vars_file = 'data_files/router.yml'\n",
        "\n",
        "env = Environment(\n",
        "    loader=FileSystemLoader(template_dir))\n",
        "template = env.get_template(template_file)\n",
        "\n",
        "with open(vars_file) as f:\n",
        "    vars_dict = yaml.safe_load(f)\n",
        "\n",
        "print(template.render(vars_dict))"
      ],
      "metadata": {
        "colab": {
          "base_uri": "https://localhost:8080/"
        },
        "id": "dxImk9f7Gu0O",
        "outputId": "38e40376-1b52-45ff-bd90-f972a3f940d7"
      },
      "execution_count": null,
      "outputs": [
        {
          "output_type": "stream",
          "name": "stdout",
          "text": [
            "router bgp 100\n",
            " \n",
            " neighbor 10.0.0.2 remote-as 100\n",
            " neighbor 10.0.0.2 update-source lo100\n",
            " \n",
            " neighbor 10.0.0.3 remote-as 100\n",
            " neighbor 10.0.0.3 update-source lo100\n",
            " \n"
          ]
        }
      ]
    },
    {
      "cell_type": "markdown",
      "source": [
        "new lines occur because of for block.\n",
        "\n",
        "{% for ibgp in bgp.ibgp_neighbors %}\n",
        "\n",
        "By default, the same behavior will be with any other Jinja blocks.\n",
        "\n"
      ],
      "metadata": {
        "id": "uuYIdbpqYHFc"
      }
    },
    {
      "cell_type": "markdown",
      "source": [
        "When trim_blocks flag is added:\n",
        "\n",
        "```\n",
        "env = Environment(loader=FileSystemLoader(TEMPLATE_DIR),\n",
        "                  trim_blocks=True)\n",
        "```"
      ],
      "metadata": {
        "id": "OVYj_SIsYSzu"
      }
    },
    {
      "cell_type": "code",
      "source": [
        "from jinja2 import Environment, FileSystemLoader\n",
        "import yaml\n",
        "\n",
        "template_dir = \"templates\"\n",
        "template_file = \"env_flags.txt\"\n",
        "vars_file = 'data_files/router.yml'\n",
        "\n",
        "env = Environment(\n",
        "    loader=FileSystemLoader(template_dir),\n",
        "    trim_blocks=True)\n",
        "template = env.get_template(template_file)\n",
        "\n",
        "with open(vars_file) as f:\n",
        "    vars_dict = yaml.safe_load(f)\n",
        "\n",
        "print(template.render(vars_dict))"
      ],
      "metadata": {
        "id": "Y0IOWDkxWML9",
        "colab": {
          "base_uri": "https://localhost:8080/"
        },
        "outputId": "f7175c4c-8d98-40a1-9a76-bb0060656485"
      },
      "execution_count": null,
      "outputs": [
        {
          "output_type": "stream",
          "name": "stdout",
          "text": [
            "router bgp 100\n",
            "  neighbor 10.0.0.2 remote-as 100\n",
            " neighbor 10.0.0.2 update-source lo100\n",
            "  neighbor 10.0.0.3 remote-as 100\n",
            " neighbor 10.0.0.3 update-source lo100\n",
            " \n"
          ]
        }
      ]
    },
    {
      "cell_type": "markdown",
      "source": [
        "Empty lines after block were removed."
      ],
      "metadata": {
        "id": "9GCVxsHGYxEO"
      }
    },
    {
      "cell_type": "markdown",
      "source": [
        "In front of neighbor ... remote-as lines two spaces appeared. This is because there is a space in front of for block. Once lstrip_blocks has been disabled, spaces and tabs in front of the block are added to the first line of block.\n",
        "\n",
        "This does not affect the next lines. Therefore, lines with neighbor ... update-source are displayed with one space.\n",
        "\n",
        "Parameter lstrip_blocks controls whether spaces and tabs will be removed from the beginning of line to the beginning of block (until opening curly bracket).\n",
        "\n",
        "If add lstrip_blocks=True:\n",
        "\n",
        "```\n",
        "env = Environment(loader=FileSystemLoader(TEMPLATE_DIR),\n",
        "                  trim_blocks=True, lstrip_blocks=True)\n",
        "```"
      ],
      "metadata": {
        "id": "vapjkr6iY32m"
      }
    },
    {
      "cell_type": "code",
      "source": [
        "from jinja2 import Environment, FileSystemLoader\n",
        "import yaml\n",
        "\n",
        "template_dir = \"templates\"\n",
        "template_file = \"env_flags.txt\"\n",
        "vars_file = 'data_files/router.yml'\n",
        "\n",
        "env = Environment(\n",
        "    loader=FileSystemLoader(template_dir),\n",
        "    trim_blocks=True,\n",
        "    lstrip_blocks=True)\n",
        "template = env.get_template(template_file)\n",
        "\n",
        "with open(vars_file) as f:\n",
        "    vars_dict = yaml.safe_load(f)\n",
        "\n",
        "print(template.render(vars_dict))"
      ],
      "metadata": {
        "colab": {
          "base_uri": "https://localhost:8080/"
        },
        "id": "10GhdDkWYnn0",
        "outputId": "03e28d02-cd3a-4d3c-8a1f-7ab1094d2a6d"
      },
      "execution_count": null,
      "outputs": [
        {
          "output_type": "stream",
          "name": "stdout",
          "text": [
            "router bgp 100\n",
            " neighbor 10.0.0.2 remote-as 100\n",
            " neighbor 10.0.0.2 update-source lo100\n",
            " neighbor 10.0.0.3 remote-as 100\n",
            " neighbor 10.0.0.3 update-source lo100\n",
            "\n"
          ]
        }
      ]
    },
    {
      "cell_type": "markdown",
      "source": [
        "### Disabling lstrip_blocks for block"
      ],
      "metadata": {
        "id": "WbL8qFKRZm1G"
      }
    },
    {
      "cell_type": "markdown",
      "source": [
        "Sometimes you need to disable lstrip_blocks in block."
      ],
      "metadata": {
        "id": "tQfDaGwLLDx3"
      }
    },
    {
      "cell_type": "markdown",
      "source": [
        "For example, if lstrip_blocks is set to True in an environment, but must be disabled for the second block in template (templates/env_flags2-1.txt file):"
      ],
      "metadata": {
        "id": "B9J9shqcLH5c"
      }
    },
    {
      "cell_type": "markdown",
      "source": [
        "```\n",
        "router bgp {{ bgp.local_as }}\n",
        " {% for ibgp in bgp.ibgp_neighbors %}\n",
        " neighbor {{ ibgp }} remote-as {{ bgp.local_as }}\n",
        " neighbor {{ ibgp }} update-source {{ bgp.loopback }}\n",
        " {% endfor %}\n",
        "\n",
        "router bgp {{ bgp.local_as }}\n",
        " {%+ for ibgp in bgp.ibgp_neighbors %}\n",
        " neighbor {{ ibgp }} remote-as {{ bgp.local_as }}\n",
        " neighbor {{ ibgp }} update-source {{ bgp.loopback }}\n",
        " {% endfor %}\n",
        " ```"
      ],
      "metadata": {
        "id": "oz3YU94NLNiK"
      }
    },
    {
      "cell_type": "code",
      "source": [
        "from jinja2 import Environment, FileSystemLoader\n",
        "import yaml\n",
        "\n",
        "template_dir = \"templates\"\n",
        "template_file = \"env_flags2-1.txt\"\n",
        "vars_file = 'data_files/router.yml'\n",
        "\n",
        "env = Environment(\n",
        "    loader=FileSystemLoader(template_dir),\n",
        "    trim_blocks=True,\n",
        "    lstrip_blocks=True)\n",
        "template = env.get_template(template_file)\n",
        "\n",
        "with open(vars_file) as f:\n",
        "    vars_dict = yaml.safe_load(f)\n",
        "\n",
        "print(template.render(vars_dict))"
      ],
      "metadata": {
        "colab": {
          "base_uri": "https://localhost:8080/"
        },
        "id": "VQSqFFmWZncz",
        "outputId": "0a992c85-fba2-45ef-daed-fe3f3d5cc7c9"
      },
      "execution_count": null,
      "outputs": [
        {
          "output_type": "stream",
          "name": "stdout",
          "text": [
            "router bgp 100\n",
            " neighbor 10.0.0.2 remote-as 100\n",
            " neighbor 10.0.0.2 update-source lo100\n",
            " neighbor 10.0.0.3 remote-as 100\n",
            " neighbor 10.0.0.3 update-source lo100\n",
            "\n",
            "router bgp 100\n",
            "  neighbor 10.0.0.2 remote-as 100\n",
            " neighbor 10.0.0.2 update-source lo100\n",
            " neighbor 10.0.0.3 remote-as 100\n",
            " neighbor 10.0.0.3 update-source lo100\n",
            "\n"
          ]
        }
      ]
    },
    {
      "cell_type": "markdown",
      "source": [
        "Plus sign after percent sign disables lstrip_blocks for the block, in this case, only in the beginning."
      ],
      "metadata": {
        "id": "1Moxs5JNNz3f"
      }
    },
    {
      "cell_type": "markdown",
      "source": [
        "If done this way (plus is added in the end block expression): - env_flags2-2.txt"
      ],
      "metadata": {
        "id": "ODyo1uLQN2-B"
      }
    },
    {
      "cell_type": "markdown",
      "source": [
        "```\n",
        "router bgp {{ bgp.local_as }}\n",
        " {% for ibgp in bgp.ibgp_neighbors %}\n",
        " neighbor {{ ibgp }} remote-as {{ bgp.local_as }}\n",
        " neighbor {{ ibgp }} update-source {{ bgp.loopback }}\n",
        " {% endfor %}\n",
        "\n",
        "router bgp {{ bgp.local_as }}\n",
        " {%+ for ibgp in bgp.ibgp_neighbors %}\n",
        " neighbor {{ ibgp }} remote-as {{ bgp.local_as }}\n",
        " neighbor {{ ibgp }} update-source {{ bgp.loopback }}\n",
        " {%+ endfor %}\n",
        " ```"
      ],
      "metadata": {
        "id": "AfvZuR-1N6VJ"
      }
    },
    {
      "cell_type": "code",
      "source": [
        "from jinja2 import Environment, FileSystemLoader\n",
        "import yaml\n",
        "\n",
        "template_dir = \"templates\"\n",
        "template_file = \"env_flags2-2.txt\"\n",
        "vars_file = 'data_files/router.yml'\n",
        "\n",
        "env = Environment(\n",
        "    loader=FileSystemLoader(template_dir),\n",
        "    trim_blocks=True,\n",
        "    lstrip_blocks=True)\n",
        "template = env.get_template(template_file)\n",
        "\n",
        "with open(vars_file) as f:\n",
        "    vars_dict = yaml.safe_load(f)\n",
        "\n",
        "print(template.render(vars_dict))"
      ],
      "metadata": {
        "colab": {
          "base_uri": "https://localhost:8080/"
        },
        "id": "wk6rdhWELirr",
        "outputId": "29f91947-a5a0-47de-c328-688f27dd3a14"
      },
      "execution_count": null,
      "outputs": [
        {
          "output_type": "stream",
          "name": "stdout",
          "text": [
            "router bgp 100\n",
            " neighbor 10.0.0.2 remote-as 100\n",
            " neighbor 10.0.0.2 update-source lo100\n",
            " neighbor 10.0.0.3 remote-as 100\n",
            " neighbor 10.0.0.3 update-source lo100\n",
            "\n",
            "router bgp 100\n",
            "  neighbor 10.0.0.2 remote-as 100\n",
            " neighbor 10.0.0.2 update-source lo100\n",
            "  neighbor 10.0.0.3 remote-as 100\n",
            " neighbor 10.0.0.3 update-source lo100\n",
            " \n"
          ]
        }
      ]
    },
    {
      "cell_type": "markdown",
      "source": [
        "It will be disabled for the end of the block:"
      ],
      "metadata": {
        "id": "w4821Z8QOQ66"
      }
    },
    {
      "cell_type": "markdown",
      "source": [
        "### Removing whitespace from block"
      ],
      "metadata": {
        "id": "u4hVz0moOW0B"
      }
    },
    {
      "cell_type": "markdown",
      "source": [
        "Similarly, you can control whitespace removal for a block.\n",
        "\n",
        "For this example, flags are not set in environment:"
      ],
      "metadata": {
        "id": "BvdqF1zYOe16"
      }
    },
    {
      "cell_type": "markdown",
      "source": [
        "```\n",
        "env = Environment(loader=FileSystemLoader(TEMPLATE_DIR))\n",
        "```"
      ],
      "metadata": {
        "id": "wZznRuBQOjaX"
      }
    },
    {
      "cell_type": "markdown",
      "source": [
        "Template templates/env_flags3-1.txt:"
      ],
      "metadata": {
        "id": "LTfkbhb9Op7J"
      }
    },
    {
      "cell_type": "markdown",
      "source": [
        "```\n",
        "router bgp {{ bgp.local_as }}\n",
        " {% for ibgp in bgp.ibgp_neighbors %}\n",
        " neighbor {{ ibgp }} remote-as {{ bgp.local_as }}\n",
        " neighbor {{ ibgp }} update-source {{ bgp.loopback }}\n",
        " {% endfor %}\n",
        "\n",
        "router bgp {{ bgp.local_as }}\n",
        " {%- for ibgp in bgp.ibgp_neighbors %}\n",
        " neighbor {{ ibgp }} remote-as {{ bgp.local_as }}\n",
        " neighbor {{ ibgp }} update-source {{ bgp.loopback }}\n",
        " {% endfor %}\n",
        " ```"
      ],
      "metadata": {
        "id": "9cJT5DimOt0J"
      }
    },
    {
      "cell_type": "markdown",
      "source": [
        "Note the minus at the beginning of second block. Minus removes all whitespace characters, in this case, at the beginning of the block.\n",
        "\n",
        "The result will be:"
      ],
      "metadata": {
        "id": "oj35bF-bO1Cf"
      }
    },
    {
      "cell_type": "code",
      "source": [
        "from jinja2 import Environment, FileSystemLoader\n",
        "import yaml\n",
        "\n",
        "template_dir = \"templates\"\n",
        "template_file = \"env_flags3-1.txt\"\n",
        "vars_file = 'data_files/router.yml'\n",
        "\n",
        "env = Environment(\n",
        "    loader=FileSystemLoader(template_dir))\n",
        "template = env.get_template(template_file)\n",
        "\n",
        "with open(vars_file) as f:\n",
        "    vars_dict = yaml.safe_load(f)\n",
        "\n",
        "print(template.render(vars_dict))"
      ],
      "metadata": {
        "colab": {
          "base_uri": "https://localhost:8080/"
        },
        "id": "fnhzGqHyOGTZ",
        "outputId": "c91cb0a6-10d1-4159-a456-11bc120bbc29"
      },
      "execution_count": null,
      "outputs": [
        {
          "output_type": "stream",
          "name": "stdout",
          "text": [
            "router bgp 100\n",
            " \n",
            " neighbor 10.0.0.2 remote-as 100\n",
            " neighbor 10.0.0.2 update-source lo100\n",
            " \n",
            " neighbor 10.0.0.3 remote-as 100\n",
            " neighbor 10.0.0.3 update-source lo100\n",
            " \n",
            "\n",
            "router bgp 100\n",
            " neighbor 10.0.0.2 remote-as 100\n",
            " neighbor 10.0.0.2 update-source lo100\n",
            " \n",
            " neighbor 10.0.0.3 remote-as 100\n",
            " neighbor 10.0.0.3 update-source lo100\n",
            " \n"
          ]
        }
      ]
    },
    {
      "cell_type": "markdown",
      "source": [
        "If you add minus to the end of the block: - env_flags3-2.txt"
      ],
      "metadata": {
        "id": "2zFHEj6RPnPi"
      }
    },
    {
      "cell_type": "markdown",
      "source": [
        "```\n",
        "router bgp {{ bgp.local_as }}\n",
        " {% for ibgp in bgp.ibgp_neighbors %}\n",
        " neighbor {{ ibgp }} remote-as {{ bgp.local_as }}\n",
        " neighbor {{ ibgp }} update-source {{ bgp.loopback }}\n",
        " {% endfor %}\n",
        "\n",
        "router bgp {{ bgp.local_as }}\n",
        " {%- for ibgp in bgp.ibgp_neighbors %}\n",
        " neighbor {{ ibgp }} remote-as {{ bgp.local_as }}\n",
        " neighbor {{ ibgp }} update-source {{ bgp.loopback }}\n",
        " {%- endfor %}\n",
        " ```"
      ],
      "metadata": {
        "id": "AayR1EhDPsmm"
      }
    },
    {
      "cell_type": "markdown",
      "source": [
        "Empty string at the end of the block will be deleted:"
      ],
      "metadata": {
        "id": "513PV64ePyBg"
      }
    },
    {
      "cell_type": "code",
      "source": [
        "from jinja2 import Environment, FileSystemLoader\n",
        "import yaml\n",
        "\n",
        "template_dir = \"templates\"\n",
        "template_file = \"env_flags3-2.txt\"\n",
        "vars_file = 'data_files/router.yml'\n",
        "\n",
        "env = Environment(\n",
        "    loader=FileSystemLoader(template_dir))\n",
        "template = env.get_template(template_file)\n",
        "\n",
        "with open(vars_file) as f:\n",
        "    vars_dict = yaml.safe_load(f)\n",
        "\n",
        "print(template.render(vars_dict))"
      ],
      "metadata": {
        "colab": {
          "base_uri": "https://localhost:8080/"
        },
        "id": "Kp7Nlfw7PppQ",
        "outputId": "afd77034-4523-4b12-c428-76973bd60093"
      },
      "execution_count": null,
      "outputs": [
        {
          "output_type": "stream",
          "name": "stdout",
          "text": [
            "router bgp 100\n",
            " \n",
            " neighbor 10.0.0.2 remote-as 100\n",
            " neighbor 10.0.0.2 update-source lo100\n",
            " \n",
            " neighbor 10.0.0.3 remote-as 100\n",
            " neighbor 10.0.0.3 update-source lo100\n",
            " \n",
            "\n",
            "router bgp 100\n",
            " neighbor 10.0.0.2 remote-as 100\n",
            " neighbor 10.0.0.2 update-source lo100\n",
            " neighbor 10.0.0.3 remote-as 100\n",
            " neighbor 10.0.0.3 update-source lo100\n"
          ]
        }
      ]
    },
    {
      "cell_type": "markdown",
      "source": [
        "Try to add minus at the end of expressions describing the block and look at the result: - env_flags3-3.txt"
      ],
      "metadata": {
        "id": "D6umrIsxP6Wr"
      }
    },
    {
      "cell_type": "markdown",
      "source": [
        "```\n",
        "router bgp {{ bgp.local_as }}\n",
        " {% for ibgp in bgp.ibgp_neighbors %}\n",
        " neighbor {{ ibgp }} remote-as {{ bgp.local_as }}\n",
        " neighbor {{ ibgp }} update-source {{ bgp.loopback }}\n",
        " {% endfor %}\n",
        "\n",
        "router bgp {{ bgp.local_as }}\n",
        " {%- for ibgp in bgp.ibgp_neighbors -%}\n",
        " neighbor {{ ibgp }} remote-as {{ bgp.local_as }}\n",
        " neighbor {{ ibgp }} update-source {{ bgp.loopback }}\n",
        " {%- endfor -%}\n",
        " ```"
      ],
      "metadata": {
        "id": "VCJVDzGRQPmz"
      }
    },
    {
      "cell_type": "code",
      "source": [
        "from jinja2 import Environment, FileSystemLoader\n",
        "import yaml\n",
        "\n",
        "template_dir = \"templates\"\n",
        "template_file = \"env_flags3-3.txt\"\n",
        "vars_file = 'data_files/router.yml'\n",
        "\n",
        "env = Environment(\n",
        "    loader=FileSystemLoader(template_dir))\n",
        "template = env.get_template(template_file)\n",
        "\n",
        "with open(vars_file) as f:\n",
        "    vars_dict = yaml.safe_load(f)\n",
        "\n",
        "print(template.render(vars_dict))"
      ],
      "metadata": {
        "colab": {
          "base_uri": "https://localhost:8080/"
        },
        "id": "_-cwGLxcP1uU",
        "outputId": "25c6aa13-6432-4110-bb9d-63eeeb76d35b"
      },
      "execution_count": null,
      "outputs": [
        {
          "output_type": "stream",
          "name": "stdout",
          "text": [
            "router bgp 100\n",
            " \n",
            " neighbor 10.0.0.2 remote-as 100\n",
            " neighbor 10.0.0.2 update-source lo100\n",
            " \n",
            " neighbor 10.0.0.3 remote-as 100\n",
            " neighbor 10.0.0.3 update-source lo100\n",
            " \n",
            "\n",
            "router bgp 100\n",
            " neighbor 10.0.0.2 remote-as 100\n",
            " neighbor 10.0.0.2 update-source lo100\n",
            " neighbor 10.0.0.3 remote-as 100\n",
            " neighbor 10.0.0.3 update-source lo100\n"
          ]
        }
      ]
    },
    {
      "cell_type": "markdown",
      "source": [
        "## Variables\n",
        "\n"
      ],
      "metadata": {
        "id": "K-w4hB5EQvsH"
      }
    },
    {
      "cell_type": "markdown",
      "source": [
        "Variables in template are given in double curly braces:\n",
        "\n"
      ],
      "metadata": {
        "id": "BcJNSkA9Q44s"
      }
    },
    {
      "cell_type": "markdown",
      "source": [
        "```\n",
        "hostname {{ name }}\n",
        "\n",
        "interface Loopback0\n",
        " ip address 10.0.0.{{ id }} 255.255.255.255\n",
        "```\n",
        "\n"
      ],
      "metadata": {
        "id": "ZMxWR4_aRBv-"
      }
    },
    {
      "cell_type": "markdown",
      "source": [
        "Variable values are set based on dictionary that is passed to template.\n",
        "\n",
        "Variable that is passed on in a dictionary may not only be a number or a string, but also for example, a list or a dictionary. Inside template, you can refer to the item by number or key.\n",
        "\n",
        "Template example templates/variables.txt with usage of different variable variants:"
      ],
      "metadata": {
        "id": "rboTuqKMRGv4"
      }
    },
    {
      "cell_type": "markdown",
      "source": [
        "```\n",
        "hostname {{ name }}\n",
        "\n",
        "interface Loopback0\n",
        " ip address 10.0.0.{{ id }} 255.255.255.255\n",
        "\n",
        "vlan {{ vlans[0] }}\n",
        "\n",
        "router ospf 1\n",
        " router-id 10.0.0.{{ id }}\n",
        " auto-cost reference-bandwidth 10000\n",
        " network {{ ospf.network }} area {{ ospf['area'] }}\n",
        "```"
      ],
      "metadata": {
        "id": "51aGG5ZLRL6h"
      }
    },
    {
      "cell_type": "markdown",
      "source": [
        "And corresponding data_files/vars.yml file with variables:\n",
        "\n"
      ],
      "metadata": {
        "id": "PStkYh00RQv3"
      }
    },
    {
      "cell_type": "markdown",
      "source": [
        "```\n",
        "id: 3\n",
        "name: R3\n",
        "vlans:\n",
        "  - 10\n",
        "  - 20\n",
        "  - 30\n",
        "ospf:\n",
        "  network: 10.0.1.0 0.0.0.255\n",
        "  area: 0\n",
        "```"
      ],
      "metadata": {
        "id": "livZEjU4RUWT"
      }
    },
    {
      "cell_type": "markdown",
      "source": [
        "Note the use of vlans variable in template: since vlans variable is a list, you can specify which item from list we need\n",
        "\n",
        "If a dictionary is passed (as in case of ospf variable), you can refer to dictionary objects inside template using one of the variants: ospf.network or ospf['network']\n",
        "\n",
        "The result will be:"
      ],
      "metadata": {
        "id": "1ECgoBFERiAA"
      }
    },
    {
      "cell_type": "code",
      "source": [
        "from jinja2 import Environment, FileSystemLoader\n",
        "import yaml\n",
        "\n",
        "template_dir = \"templates\"\n",
        "template_file = \"variables.txt\"\n",
        "vars_file = 'data_files/vars.yml'\n",
        "\n",
        "env = Environment(\n",
        "    loader=FileSystemLoader(template_dir))\n",
        "template = env.get_template(template_file)\n",
        "\n",
        "with open(vars_file) as f:\n",
        "    vars_dict = yaml.safe_load(f)\n",
        "\n",
        "print(template.render(vars_dict))"
      ],
      "metadata": {
        "colab": {
          "base_uri": "https://localhost:8080/"
        },
        "id": "A3si2NNNQWkB",
        "outputId": "dc8c88a2-3a8b-46b6-cf35-1caf6cd69e9c"
      },
      "execution_count": null,
      "outputs": [
        {
          "output_type": "stream",
          "name": "stdout",
          "text": [
            "hostname R3\n",
            "\n",
            "interface Loopback0\n",
            " ip address 10.0.0.3 255.255.255.255\n",
            "\n",
            "vlan 10\n",
            "\n",
            "router ospf 1\n",
            " router-id 10.0.0.3\n",
            " auto-cost reference-bandwidth 10000\n",
            " network 10.0.1.0 0.0.0.255 area 0\n",
            "\n"
          ]
        }
      ]
    },
    {
      "cell_type": "markdown",
      "source": [
        "## Loop for"
      ],
      "metadata": {
        "id": "orALpMVcTOg4"
      }
    },
    {
      "cell_type": "markdown",
      "source": [
        "Loop for allows you to walk through sequence of elements.\n",
        "\n",
        "Loop for must be written inside {% %}. Furthermore, the end of the loop must be explicitly indicated:"
      ],
      "metadata": {
        "id": "_UdO7laKTSHP"
      }
    },
    {
      "cell_type": "markdown",
      "source": [
        "```\n",
        "{% for vlan in vlans %}\n",
        "  vlan {{ vlan }}\n",
        "{% endfor %}\n",
        "```"
      ],
      "metadata": {
        "id": "EsGBIdFTTVbZ"
      }
    },
    {
      "cell_type": "markdown",
      "source": [
        "Template example templates/for.txt using a loop:"
      ],
      "metadata": {
        "id": "n3Yj4DfETbuI"
      }
    },
    {
      "cell_type": "markdown",
      "source": [
        "```\n",
        "hostname {{ name }}\n",
        "\n",
        "interface Loopback0\n",
        " ip address 10.0.0.{{ id }} 255.255.255.255\n",
        "\n",
        "{% for vlan, name in vlans.items() %}\n",
        "vlan {{ vlan }}\n",
        " name {{ name }}\n",
        "{% endfor %}\n",
        "\n",
        "router ospf 1\n",
        " router-id 10.0.0.{{ id }}\n",
        " auto-cost reference-bandwidth 10000\n",
        " {% for networks in ospf %}\n",
        " network {{ networks.network }} area {{ networks.area }}\n",
        " {% endfor %}\n",
        " ```"
      ],
      "metadata": {
        "id": "c54IQCNLTehP"
      }
    },
    {
      "cell_type": "markdown",
      "source": [
        "File data_files/for.yml with variables:"
      ],
      "metadata": {
        "id": "U5N0_JskTlou"
      }
    },
    {
      "cell_type": "markdown",
      "source": [
        "```\n",
        "id: 3\n",
        "name: R3\n",
        "vlans:\n",
        "  10: Marketing\n",
        "  20: Voice\n",
        "  30: Management\n",
        "ospf:\n",
        "  - network: 10.0.1.0 0.0.0.255\n",
        "    area: 0\n",
        "  - network: 10.0.2.0 0.0.0.255\n",
        "    area: 2\n",
        "  - network: 10.1.1.0 0.0.0.255\n",
        "    area: 0\n",
        "```"
      ],
      "metadata": {
        "id": "kGbhdIZzTonP"
      }
    },
    {
      "cell_type": "markdown",
      "source": [
        "In for, it is possible to go through both the list elements (for example, ospf list) and the dictionary (vlans dictionary). And similarly, through any sequence.\n",
        "\n",
        "The result will be:"
      ],
      "metadata": {
        "id": "1qjup-wiT1ZD"
      }
    },
    {
      "cell_type": "code",
      "source": [
        "from jinja2 import Environment, FileSystemLoader\n",
        "import yaml\n",
        "\n",
        "template_dir = \"templates\"\n",
        "template_file = \"for.txt\"\n",
        "vars_file = 'data_files/for.yml'\n",
        "\n",
        "env = Environment(\n",
        "    loader=FileSystemLoader(template_dir),\n",
        "    trim_blocks=True,\n",
        "    lstrip_blocks=True)\n",
        "template = env.get_template(template_file)\n",
        "\n",
        "with open(vars_file) as f:\n",
        "    vars_dict = yaml.safe_load(f)\n",
        "\n",
        "print(template.render(vars_dict))"
      ],
      "metadata": {
        "colab": {
          "base_uri": "https://localhost:8080/"
        },
        "id": "p-nbbGMsRq3J",
        "outputId": "85f2c80c-f59a-4668-fef0-727bbe2f74ed"
      },
      "execution_count": null,
      "outputs": [
        {
          "output_type": "stream",
          "name": "stdout",
          "text": [
            "hostname R3\n",
            "\n",
            "interface Loopback0\n",
            " ip address 10.0.0.3 255.255.255.255\n",
            "\n",
            "vlan 10\n",
            " name Marketing\n",
            "vlan 20\n",
            " name Voice\n",
            "vlan 30\n",
            " name Management\n",
            "\n",
            "router ospf 1\n",
            " router-id 10.0.0.3\n",
            " auto-cost reference-bandwidth 10000\n",
            " network 10.0.1.0 0.0.0.255 area 0\n",
            " network 10.0.2.0 0.0.0.255 area 2\n",
            " network 10.1.1.0 0.0.0.255 area 0\n",
            "\n"
          ]
        }
      ]
    },
    {
      "cell_type": "markdown",
      "source": [
        "## if/elif/else"
      ],
      "metadata": {
        "id": "fW896GA5UcNn"
      }
    },
    {
      "cell_type": "markdown",
      "source": [
        "if allows you to add a condition to template. For example, you can use if to add parts of template depending on the presence of variables in data dictionary.\n",
        "\n",
        "if statement must also be within inside {% %}. End of condition must be explicitly stated:"
      ],
      "metadata": {
        "id": "bIBYAKfqUfm9"
      }
    },
    {
      "cell_type": "markdown",
      "source": [
        "```\n",
        "{% if ospf %}\n",
        "router ospf 1\n",
        " router-id 10.0.0.{{ id }}\n",
        " auto-cost reference-bandwidth 10000\n",
        "{% endif %}\n",
        "```"
      ],
      "metadata": {
        "id": "4Isae7JQUiA-"
      }
    },
    {
      "cell_type": "markdown",
      "source": [
        "Template example templates/if.txt:"
      ],
      "metadata": {
        "id": "hXdywO4xUpyv"
      }
    },
    {
      "cell_type": "markdown",
      "source": [
        "```\n",
        "hostname {{ name }}\n",
        "\n",
        "interface Loopback0\n",
        " ip address 10.0.0.{{ id }} 255.255.255.255\n",
        "\n",
        "{% for vlan, name in vlans.items() %}\n",
        "vlan {{ vlan }}\n",
        " name {{ name }}\n",
        "{% endfor %}\n",
        "\n",
        "{% if ospf %}\n",
        "router ospf 1\n",
        " router-id 10.0.0.{{ id }}\n",
        " auto-cost reference-bandwidth 10000\n",
        " {% for networks in ospf %}\n",
        " network {{ networks.network }} area {{ networks.area }}\n",
        " {% endfor %}\n",
        "{% endif %}\n",
        "```"
      ],
      "metadata": {
        "id": "_1owA3UnUs0Q"
      }
    },
    {
      "cell_type": "markdown",
      "source": [
        "if ospf expression works the same way as in Python: if variable exists and is not empty, the result is True. If there is no variable or it is empty, the result is False. That is, in this template the OSPF configuration is generated only if variable ospf exists and is not empty. Configuration will be generated with two data variants.\n",
        "\n",
        "First with data_files/if.yml that does not contain ospf variable:"
      ],
      "metadata": {
        "id": "SSRVMgauU1XC"
      }
    },
    {
      "cell_type": "markdown",
      "source": [
        "```\n",
        "id: 3\n",
        "name: R3\n",
        "vlans:\n",
        "  10: Marketing\n",
        "  20: Voice\n",
        "  30: Management\n",
        "```"
      ],
      "metadata": {
        "id": "wzWD6RC7U5tZ"
      }
    },
    {
      "cell_type": "markdown",
      "source": [
        "The result will be:"
      ],
      "metadata": {
        "id": "ryye0FlnU9cE"
      }
    },
    {
      "cell_type": "code",
      "source": [
        "from jinja2 import Environment, FileSystemLoader\n",
        "import yaml\n",
        "\n",
        "template_dir = \"templates\"\n",
        "template_file = \"if.txt\"\n",
        "vars_file = 'data_files/if.yml'\n",
        "\n",
        "env = Environment(\n",
        "    loader=FileSystemLoader(template_dir),\n",
        "    trim_blocks=True,\n",
        "    lstrip_blocks=True)\n",
        "template = env.get_template(template_file)\n",
        "\n",
        "with open(vars_file) as f:\n",
        "    vars_dict = yaml.safe_load(f)\n",
        "\n",
        "print(template.render(vars_dict))"
      ],
      "metadata": {
        "colab": {
          "base_uri": "https://localhost:8080/"
        },
        "id": "4MbM8oIkUjFX",
        "outputId": "80b7b6b8-8cf8-4693-c117-dba4feb041cb"
      },
      "execution_count": null,
      "outputs": [
        {
          "output_type": "stream",
          "name": "stdout",
          "text": [
            "hostname R3\n",
            "\n",
            "interface Loopback0\n",
            " ip address 10.0.0.3 255.255.255.255\n",
            "\n",
            "vlan 10\n",
            " name Marketing\n",
            "vlan 20\n",
            " name Voice\n",
            "vlan 30\n",
            " name Management\n",
            "\n",
            "\n"
          ]
        }
      ]
    },
    {
      "cell_type": "markdown",
      "source": [
        "Now a similar template but with data_files/if_ospf.yml file:"
      ],
      "metadata": {
        "id": "BQU1xO4rVH5_"
      }
    },
    {
      "cell_type": "markdown",
      "source": [
        "```\n",
        "id: 3\n",
        "name: R3\n",
        "vlans:\n",
        "  10: Marketing\n",
        "  20: Voice\n",
        "  30: Management\n",
        "ospf:\n",
        "  - network: 10.0.1.0 0.0.0.255\n",
        "    area: 0\n",
        "  - network: 10.0.2.0 0.0.0.255\n",
        "    area: 2\n",
        "  - network: 10.1.1.0 0.0.0.255\n",
        "    area: 0\n",
        "```"
      ],
      "metadata": {
        "id": "1eO90FtpVLI9"
      }
    },
    {
      "cell_type": "markdown",
      "source": [
        "Now the result will be:"
      ],
      "metadata": {
        "id": "q580YtKeVPSc"
      }
    },
    {
      "cell_type": "code",
      "source": [
        "from jinja2 import Environment, FileSystemLoader\n",
        "import yaml\n",
        "\n",
        "template_dir = \"templates\"\n",
        "template_file = \"if.txt\"\n",
        "vars_file = 'data_files/if_ospf.yml'\n",
        "\n",
        "env = Environment(\n",
        "    loader=FileSystemLoader(template_dir),\n",
        "    trim_blocks=True,\n",
        "    lstrip_blocks=True)\n",
        "template = env.get_template(template_file)\n",
        "\n",
        "with open(vars_file) as f:\n",
        "    vars_dict = yaml.safe_load(f)\n",
        "\n",
        "print(template.render(vars_dict))"
      ],
      "metadata": {
        "colab": {
          "base_uri": "https://localhost:8080/"
        },
        "id": "wGOwlhw0T-EN",
        "outputId": "bb1677fe-dc53-4411-afe6-efb411aa72b7"
      },
      "execution_count": null,
      "outputs": [
        {
          "output_type": "stream",
          "name": "stdout",
          "text": [
            "hostname R3\n",
            "\n",
            "interface Loopback0\n",
            " ip address 10.0.0.3 255.255.255.255\n",
            "\n",
            "vlan 10\n",
            " name Marketing\n",
            "vlan 20\n",
            " name Voice\n",
            "vlan 30\n",
            " name Management\n",
            "\n",
            "router ospf 1\n",
            " router-id 10.0.0.3\n",
            " auto-cost reference-bandwidth 10000\n",
            " network 10.0.1.0 0.0.0.255 area 0\n",
            " network 10.0.2.0 0.0.0.255 area 2\n",
            " network 10.1.1.0 0.0.0.255 area 0\n",
            "\n"
          ]
        }
      ]
    },
    {
      "cell_type": "markdown",
      "source": [
        "As in Python, Jinja is allowed to make branches in condition.\n",
        "\n",
        "Template example templates/if_vlans.txt:"
      ],
      "metadata": {
        "id": "uQfVSgaRVcdV"
      }
    },
    {
      "cell_type": "markdown",
      "source": [
        "```\n",
        "{% for intf, params in trunks.items() %}\n",
        "interface {{ intf }}\n",
        " {% if params.action == 'add' %}\n",
        " switchport trunk allowed vlan add {{ params.vlans }}\n",
        " {% elif params.action == 'delete' %}\n",
        " switchport trunk allowed vlan remove {{ params.vlans }}\n",
        " {% else %}\n",
        " switchport trunk allowed vlan {{ params.vlans }}\n",
        " {% endif %}\n",
        "{% endfor %}\n",
        "```"
      ],
      "metadata": {
        "id": "Kp7pz0VvVf5z"
      }
    },
    {
      "cell_type": "markdown",
      "source": [
        "Data file data_files/if_vlans.yml:"
      ],
      "metadata": {
        "id": "6R4S3ieJVj3l"
      }
    },
    {
      "cell_type": "markdown",
      "source": [
        "```\n",
        "trunks:\n",
        "  Fa0/1:\n",
        "    action: add\n",
        "    vlans: 10,20\n",
        "  Fa0/2:\n",
        "    action: only\n",
        "    vlans: 10,30\n",
        "  Fa0/3:\n",
        "    action: delete\n",
        "    vlans: 10\n",
        "```"
      ],
      "metadata": {
        "id": "82k2nVi7VnCS"
      }
    },
    {
      "cell_type": "markdown",
      "source": [
        "In this example, different commands are generated depending on value of action parameter.\n",
        "\n",
        "In template you could also use this option to refer to nested dictionaries:"
      ],
      "metadata": {
        "id": "uIIITJaGVqxW"
      }
    },
    {
      "cell_type": "markdown",
      "source": [
        "```\n",
        "{% for intf in trunks %}\n",
        "interface {{ intf }}\n",
        " {% if trunks[intf]['action'] == 'add' %}\n",
        " switchport trunk allowed vlan add {{ trunks[intf]['vlans'] }}\n",
        " {% elif trunks[intf]['action'] == 'delete' %}\n",
        " switchport trunk allowed vlan remove {{ trunks[intf]['vlans'] }}\n",
        " {% else %}\n",
        " switchport trunk allowed vlan {{ trunks[intf]['vlans'] }}\n",
        " {% endif %}\n",
        "{% endfor %}\n",
        "```"
      ],
      "metadata": {
        "id": "tFgKfe8DWBYi"
      }
    },
    {
      "cell_type": "markdown",
      "source": [
        "This will result in the following configuration:"
      ],
      "metadata": {
        "id": "xRT47fVOWIRI"
      }
    },
    {
      "cell_type": "code",
      "source": [
        "from jinja2 import Environment, FileSystemLoader\n",
        "import yaml\n",
        "\n",
        "template_dir = \"templates\"\n",
        "template_file = \"if_vlans.txt\"\n",
        "vars_file = 'data_files/if_vlans.yml'\n",
        "\n",
        "env = Environment(\n",
        "    loader=FileSystemLoader(template_dir),\n",
        "    trim_blocks=True,\n",
        "    lstrip_blocks=True)\n",
        "template = env.get_template(template_file)\n",
        "\n",
        "with open(vars_file) as f:\n",
        "    vars_dict = yaml.safe_load(f)\n",
        "\n",
        "print(template.render(vars_dict))"
      ],
      "metadata": {
        "colab": {
          "base_uri": "https://localhost:8080/"
        },
        "id": "sbE_X6phVUBc",
        "outputId": "c18e578b-cfa0-41c3-cfb8-a7c5153ccc51"
      },
      "execution_count": null,
      "outputs": [
        {
          "output_type": "stream",
          "name": "stdout",
          "text": [
            "interface Fa0/1\n",
            " switchport trunk allowed vlan add 10,20\n",
            "interface Fa0/2\n",
            " switchport trunk allowed vlan 10,30\n",
            "interface Fa0/3\n",
            " switchport trunk allowed vlan remove 10\n",
            "\n"
          ]
        }
      ]
    },
    {
      "cell_type": "markdown",
      "source": [
        "Using if you can also filter which elements of sequence will be iterated in for loop.\n",
        "\n",
        "Template example templates/if_for.txt with filter in for loop:"
      ],
      "metadata": {
        "id": "rRuVRMmuWS7V"
      }
    },
    {
      "cell_type": "markdown",
      "source": [
        "```\n",
        "{% for vlan, name in vlans.items() if vlan > 15 %}\n",
        "vlan {{ vlan }}\n",
        " name {{ name }}\n",
        "{% endfor %}\n",
        "```"
      ],
      "metadata": {
        "id": "WkSRibX8WVjO"
      }
    },
    {
      "cell_type": "markdown",
      "source": [
        "Data file (data_files/if_for.yml):"
      ],
      "metadata": {
        "id": "NCrZEzirWZPa"
      }
    },
    {
      "cell_type": "markdown",
      "source": [
        "```\n",
        "vlans:\n",
        "  10: Marketing\n",
        "  20: Voice\n",
        "  30: Management\n",
        "```"
      ],
      "metadata": {
        "id": "Q3QeIu55WdCd"
      }
    },
    {
      "cell_type": "markdown",
      "source": [
        "The result will be:"
      ],
      "metadata": {
        "id": "ji9uMdFeWgsk"
      }
    },
    {
      "cell_type": "code",
      "source": [
        "from jinja2 import Environment, FileSystemLoader\n",
        "import yaml\n",
        "\n",
        "template_dir = \"templates\"\n",
        "template_file = \"if_for.txt\"\n",
        "vars_file = 'data_files/if_for.yml'\n",
        "\n",
        "env = Environment(\n",
        "    loader=FileSystemLoader(template_dir),\n",
        "    trim_blocks=True,\n",
        "    lstrip_blocks=True)\n",
        "template = env.get_template(template_file)\n",
        "\n",
        "with open(vars_file) as f:\n",
        "    vars_dict = yaml.safe_load(f)\n",
        "\n",
        "print(template.render(vars_dict))"
      ],
      "metadata": {
        "colab": {
          "base_uri": "https://localhost:8080/"
        },
        "id": "mU0Fq2H9WNHe",
        "outputId": "04d18a11-199a-41b5-cc06-20b4afe7d00c"
      },
      "execution_count": null,
      "outputs": [
        {
          "output_type": "stream",
          "name": "stdout",
          "text": [
            "vlan 20\n",
            " name Voice\n",
            "vlan 30\n",
            " name Management\n",
            "\n"
          ]
        }
      ]
    },
    {
      "cell_type": "markdown",
      "source": [
        "## Filters"
      ],
      "metadata": {
        "id": "2GSjNWFeWtd9"
      }
    },
    {
      "cell_type": "markdown",
      "source": [
        "In Jinja, variables can be changed by filters. Filters are separated from variable by a vertical line (pipe |) and may contain additional arguments. In addition, several filters can be applied to variable. In this case, filters are simply written consecutively and each of them is separated by a vertical line.\n",
        "\n",
        "Jinja supports a large number of built-in filters. We will look at only a few of them. Other filters can be found in documentation.\n",
        "https://jinja.palletsprojects.com/en/3.0.x/templates/#builtin-filters\n",
        "\n",
        "You can also easily create your own filters. We will not cover this possibility but it is well documented.\n",
        "https://jinja.palletsprojects.com/en/3.0.x/api/?highlight=custom%20filter#writing-filters"
      ],
      "metadata": {
        "id": "1uY8ca8wZM-f"
      }
    },
    {
      "cell_type": "markdown",
      "source": [
        "### default"
      ],
      "metadata": {
        "id": "CCtUzSbjaKtA"
      }
    },
    {
      "cell_type": "markdown",
      "source": [
        "Filter default allows you to set default value for variable. If variable is defined, it will be displayed, if variable is not defined, the value specified in default filter will be displayed.\n",
        "\n",
        "Template example templates/filter_default.txt:"
      ],
      "metadata": {
        "id": "WPWZ87hcaO-l"
      }
    },
    {
      "cell_type": "markdown",
      "source": [
        "```\n",
        "router ospf 1\n",
        " auto-cost reference-bandwidth {{ ref_bw | default(10000) }}\n",
        " {% for networks in ospf %}\n",
        " network {{ networks.network }} area {{ networks.area }}\n",
        " {% endfor %}\n",
        "```"
      ],
      "metadata": {
        "id": "-wIsJm4KaSoa"
      }
    },
    {
      "cell_type": "markdown",
      "source": [
        "If variable ref_bw is defined in dictionary, its value will be set. If there is no variable, the value of 10000 will be substituted.\n",
        "\n",
        "Data file (data_files/filter_default.yml):"
      ],
      "metadata": {
        "id": "_ii7S8dwaa7q"
      }
    },
    {
      "cell_type": "markdown",
      "source": [
        "```\n",
        "ospf:\n",
        "  - network: 10.0.1.0 0.0.0.255\n",
        "    area: 0\n",
        "  - network: 10.0.2.0 0.0.0.255\n",
        "    area: 2\n",
        "  - network: 10.1.1.0 0.0.0.255\n",
        "    area: 0\n",
        "```"
      ],
      "metadata": {
        "id": "bmRq-qPeaeS0"
      }
    },
    {
      "cell_type": "markdown",
      "source": [
        "The result of execution:"
      ],
      "metadata": {
        "id": "xROIDiq3agss"
      }
    },
    {
      "cell_type": "code",
      "source": [
        "from jinja2 import Environment, FileSystemLoader\n",
        "import yaml\n",
        "\n",
        "template_dir = \"templates\"\n",
        "template_file = \"filter_default.txt\"\n",
        "vars_file = 'data_files/filter_default.yml'\n",
        "\n",
        "env = Environment(\n",
        "    loader=FileSystemLoader(template_dir),\n",
        "    trim_blocks=True,\n",
        "    lstrip_blocks=True)\n",
        "template = env.get_template(template_file)\n",
        "\n",
        "with open(vars_file) as f:\n",
        "    vars_dict = yaml.safe_load(f)\n",
        "\n",
        "print(template.render(vars_dict))"
      ],
      "metadata": {
        "colab": {
          "base_uri": "https://localhost:8080/"
        },
        "id": "_qLrqp6eWkqE",
        "outputId": "27f1d9ae-0961-4f78-a530-86a7353a49de"
      },
      "execution_count": null,
      "outputs": [
        {
          "output_type": "stream",
          "name": "stdout",
          "text": [
            "router ospf 1\n",
            " auto-cost reference-bandwidth 10000\n",
            " network 10.0.1.0 0.0.0.255 area 0\n",
            " network 10.0.2.0 0.0.0.255 area 2\n",
            " network 10.1.1.0 0.0.0.255 area 0\n",
            "\n"
          ]
        }
      ]
    },
    {
      "cell_type": "markdown",
      "source": [
        "**By default, if variable is defined and its value is empty, it will be assumed that variable and its value exist.**\n",
        "\n",
        "If you want default value to be set also when variable is empty (i.e., treated as False in Python), you need to specify additional parameter boolean=true.\n",
        "\n",
        "If with the same data file the template will be changed as follows: - filter_default_boolean.txt\n",
        "\n",
        "\n",
        "\n",
        "\n"
      ],
      "metadata": {
        "id": "eXzte_AabYOR"
      }
    },
    {
      "cell_type": "markdown",
      "source": [
        "```\n",
        "router ospf 1\n",
        " auto-cost reference-bandwidth {{ ref_bw | default(10000, boolean=true) }}\n",
        "{% for networks in ospf %}\n",
        " network {{ networks.network }} area {{ networks.area }}\n",
        "{% endfor %}\n",
        "```"
      ],
      "metadata": {
        "id": "5GASIOPKbrS9"
      }
    },
    {
      "cell_type": "markdown",
      "source": [
        "For example, if data file is: - filter_default_boolean.yml\n"
      ],
      "metadata": {
        "id": "QuUCNthgbk6F"
      }
    },
    {
      "cell_type": "markdown",
      "source": [
        "```\n",
        "ref_bw: ''\n",
        "ospf:\n",
        "  - network: 10.0.1.0 0.0.0.255\n",
        "    area: 0\n",
        "  - network: 10.0.2.0 0.0.0.255\n",
        "    area: 2\n",
        "  - network: 10.1.1.0 0.0.0.255\n",
        "    area: 0\n",
        "```"
      ],
      "metadata": {
        "id": "vmOYL6DjbbBG"
      }
    },
    {
      "cell_type": "markdown",
      "source": [
        "The result will be:"
      ],
      "metadata": {
        "id": "3NR-mw8KbyJo"
      }
    },
    {
      "cell_type": "code",
      "source": [
        "from jinja2 import Environment, FileSystemLoader\n",
        "import yaml\n",
        "\n",
        "template_dir = \"templates\"\n",
        "template_file = \"filter_default_boolean.txt\"\n",
        "vars_file = 'data_files/filter_default_boolean.yml'\n",
        "\n",
        "env = Environment(\n",
        "    loader=FileSystemLoader(template_dir),\n",
        "    trim_blocks=True,\n",
        "    lstrip_blocks=True)\n",
        "template = env.get_template(template_file)\n",
        "\n",
        "with open(vars_file) as f:\n",
        "    vars_dict = yaml.safe_load(f)\n",
        "\n",
        "print(template.render(vars_dict))"
      ],
      "metadata": {
        "colab": {
          "base_uri": "https://localhost:8080/"
        },
        "id": "M0bL5Pt7aqYD",
        "outputId": "b6ace1a1-bd08-422b-baa4-37e1f424d163"
      },
      "execution_count": null,
      "outputs": [
        {
          "output_type": "stream",
          "name": "stdout",
          "text": [
            "router ospf 1\n",
            " auto-cost reference-bandwidth 10000\n",
            " network 10.0.1.0 0.0.0.255 area 0\n",
            " network 10.0.2.0 0.0.0.255 area 2\n",
            " network 10.1.1.0 0.0.0.255 area 0\n",
            "\n"
          ]
        }
      ]
    },
    {
      "cell_type": "markdown",
      "source": [
        "Instead of default(10000, boolean=true) you can write default(10000, true)"
      ],
      "metadata": {
        "id": "b5Fl8_zwfPPo"
      }
    },
    {
      "cell_type": "markdown",
      "source": [
        "Try editing filter_default_boolean.txt by changing default=true to default=false and see the difference."
      ],
      "metadata": {
        "id": "ydf4ojNg_FII"
      }
    },
    {
      "cell_type": "markdown",
      "source": [
        "### dictsort"
      ],
      "metadata": {
        "id": "1haOugiUfydV"
      }
    },
    {
      "cell_type": "markdown",
      "source": [
        "Filter dictsort allows you to sort the dictionary. By default, sorting is done by keys but by changing filter parameters you can sort by values.\n",
        "\n",
        "Filter syntax:"
      ],
      "metadata": {
        "id": "WWP3f4lgf2Ho"
      }
    },
    {
      "cell_type": "markdown",
      "source": [
        "```\n",
        "dictsort(value, case_sensitive=False, by='key')\n",
        "```"
      ],
      "metadata": {
        "id": "zQo8osTmf4xX"
      }
    },
    {
      "cell_type": "markdown",
      "source": [
        "After dictsort sorts the dictionary, it returns a list of tuples, not a dictionary.\n",
        "\n",
        "Template example templates/filter_dictsort.txt using dictsort filter:"
      ],
      "metadata": {
        "id": "GgU9BYz5f-lL"
      }
    },
    {
      "cell_type": "markdown",
      "source": [
        "```\n",
        "{% for intf, params in trunks | dictsort %}\n",
        "interface {{ intf }}\n",
        " {% if params.action == 'add' %}\n",
        " switchport trunk allowed vlan add {{ params.vlans }}\n",
        " {% elif params.action == 'delete' %}\n",
        " switchport trunk allowed vlan remove {{ params.vlans }}\n",
        " {% else %}\n",
        " switchport trunk allowed vlan {{ params.vlans }}\n",
        " {% endif %}\n",
        "{% endfor %}\n",
        "```"
      ],
      "metadata": {
        "id": "jLW4ZoHOgCER"
      }
    },
    {
      "cell_type": "markdown",
      "source": [
        "Note that filter awaits a dictionary, not a list of tuples or iterator.\n",
        "\n",
        "Data file (data_files/filter_dictsort.yml):"
      ],
      "metadata": {
        "id": "F4QrbF_7gMdH"
      }
    },
    {
      "cell_type": "markdown",
      "source": [
        "```\n",
        "trunks:\n",
        "  Fa0/2:\n",
        "    action: only\n",
        "    vlans: 10,30\n",
        "  Fa0/3:\n",
        "    action: delete\n",
        "    vlans: 10\n",
        "  Fa0/1:\n",
        "    action: add\n",
        "    vlans: 10,20\n",
        "```"
      ],
      "metadata": {
        "id": "J3PDl_xtgPqD"
      }
    },
    {
      "cell_type": "markdown",
      "source": [
        "The result of execution will be (interfaces are ordered):"
      ],
      "metadata": {
        "id": "T8nZnbbZgU3a"
      }
    },
    {
      "cell_type": "code",
      "source": [
        "from jinja2 import Environment, FileSystemLoader\n",
        "import yaml\n",
        "\n",
        "template_dir = \"templates\"\n",
        "template_file = \"filter_dictsort.txt\"\n",
        "vars_file = 'data_files/filter_dictsort.yml'\n",
        "\n",
        "env = Environment(\n",
        "    loader=FileSystemLoader(template_dir),\n",
        "    trim_blocks=True,\n",
        "    lstrip_blocks=True)\n",
        "template = env.get_template(template_file)\n",
        "\n",
        "with open(vars_file) as f:\n",
        "    vars_dict = yaml.safe_load(f)\n",
        "\n",
        "print(template.render(vars_dict))"
      ],
      "metadata": {
        "colab": {
          "base_uri": "https://localhost:8080/"
        },
        "id": "sHi7vZU1cVWU",
        "outputId": "fceaa29e-934f-4009-83c0-611059f22a47"
      },
      "execution_count": null,
      "outputs": [
        {
          "output_type": "stream",
          "name": "stdout",
          "text": [
            "interface Fa0/1\n",
            " switchport trunk allowed vlan add 10,20\n",
            "interface Fa0/2\n",
            " switchport trunk allowed vlan 10,30\n",
            "interface Fa0/3\n",
            " switchport trunk allowed vlan remove 10\n",
            "\n"
          ]
        }
      ]
    },
    {
      "cell_type": "markdown",
      "source": [
        "### join"
      ],
      "metadata": {
        "id": "p81RYuwugfm6"
      }
    },
    {
      "cell_type": "markdown",
      "source": [
        "Filter join works just like join method in Python.\n",
        "\n",
        "With join filter you can combine sequence of elements into a string with an optional separator between elements.\n",
        "\n",
        "Template example templates/filter_join.txt using join filter:"
      ],
      "metadata": {
        "id": "SLsiJoiVgja7"
      }
    },
    {
      "cell_type": "markdown",
      "source": [
        "```\n",
        "{% for intf, params in trunks | dictsort %}\n",
        "interface {{ intf }}\n",
        " {% if params.action == 'add' %}\n",
        " switchport trunk allowed vlan add {{ params.vlans | join(',') }}\n",
        " {% elif params.action == 'delete' %}\n",
        " switchport trunk allowed vlan remove {{ params.vlans | join(',') }}\n",
        " {% else %}\n",
        " switchport trunk allowed vlan {{ params.vlans | join(',') }}\n",
        " {% endif %}\n",
        "{% endfor %}\n",
        "```"
      ],
      "metadata": {
        "id": "5bcMVxEDgvwF"
      }
    },
    {
      "cell_type": "markdown",
      "source": [
        "Data file (data_files/filter_join.yml):\n",
        "\n"
      ],
      "metadata": {
        "id": "5Co_4p8VgzI-"
      }
    },
    {
      "cell_type": "markdown",
      "source": [
        "```\n",
        "trunks:\n",
        "  Fa0/1:\n",
        "    action: add\n",
        "    vlans:\n",
        "      - 10\n",
        "      - 20\n",
        "  Fa0/2:\n",
        "    action: only\n",
        "    vlans:\n",
        "      - 10\n",
        "      - 30\n",
        "  Fa0/3:\n",
        "    action: delete\n",
        "    vlans:\n",
        "      - 10\n",
        "```"
      ],
      "metadata": {
        "id": "8YihrRRFg16e"
      }
    },
    {
      "cell_type": "markdown",
      "source": [
        "The result of execution:"
      ],
      "metadata": {
        "id": "nfwXV9ndg5Yp"
      }
    },
    {
      "cell_type": "code",
      "source": [
        "from jinja2 import Environment, FileSystemLoader\n",
        "import yaml\n",
        "\n",
        "template_dir = \"templates\"\n",
        "template_file = \"filter_join.txt\"\n",
        "vars_file = 'data_files/filter_join.yml'\n",
        "\n",
        "env = Environment(\n",
        "    loader=FileSystemLoader(template_dir),\n",
        "    trim_blocks=True,\n",
        "    lstrip_blocks=True)\n",
        "template = env.get_template(template_file)\n",
        "\n",
        "with open(vars_file) as f:\n",
        "    vars_dict = yaml.safe_load(f)\n",
        "\n",
        "print(template.render(vars_dict))"
      ],
      "metadata": {
        "colab": {
          "base_uri": "https://localhost:8080/"
        },
        "id": "wfsudf0Mgbyx",
        "outputId": "a1787f16-3488-449a-8709-21b459c96c84"
      },
      "execution_count": null,
      "outputs": [
        {
          "output_type": "stream",
          "name": "stdout",
          "text": [
            "interface Fa0/1\n",
            " switchport trunk allowed vlan add 10,20\n",
            "interface Fa0/2\n",
            " switchport trunk allowed vlan 10,30\n",
            "interface Fa0/3\n",
            " switchport trunk allowed vlan remove 10\n",
            "\n"
          ]
        }
      ]
    },
    {
      "cell_type": "markdown",
      "source": [
        "## Tests"
      ],
      "metadata": {
        "id": "X1xQ8zUZi991"
      }
    },
    {
      "cell_type": "markdown",
      "source": [
        "Besides filters, Jinja also supports tests. Tests allow variables to be tested for a certain condition.\n",
        "\n",
        "Jinja supports a large number of built-in tests. We will look at only a few of them. The rest of tests you can find in documentation.\n",
        "https://jinja.palletsprojects.com/en/3.0.x/templates/#builtin-tests"
      ],
      "metadata": {
        "id": "MlM8MV8vjDQE"
      }
    },
    {
      "cell_type": "markdown",
      "source": [
        "### defined"
      ],
      "metadata": {
        "id": "UNMuRnb-jRmD"
      }
    },
    {
      "cell_type": "markdown",
      "source": [
        "Test defined allows you to check if variable is present in the data dictionary.\n",
        "\n",
        "Template example templates/test_defined.txt:"
      ],
      "metadata": {
        "id": "hL7SyjW8jc8l"
      }
    },
    {
      "cell_type": "markdown",
      "source": [
        "```\n",
        "router ospf 1\n",
        "{% if ref_bw is defined %}\n",
        " auto-cost reference-bandwidth {{ ref_bw }}\n",
        "{% else %}\n",
        " auto-cost reference-bandwidth 10000\n",
        "{% endif %}\n",
        "{% for networks in ospf %}\n",
        " network {{ networks.network }} area {{ networks.area }}\n",
        "{% endfor %}\n",
        "```"
      ],
      "metadata": {
        "id": "cWRAp-0Sjfxa"
      }
    },
    {
      "cell_type": "markdown",
      "source": [
        "This example is more cumbersome than default filter option, but this test may be useful if depending on whether a variable is defined or not, different commands need to be executed.\n",
        "\n",
        "Data file (data_files/test_defined.yml):\n",
        "\n"
      ],
      "metadata": {
        "id": "Y9dbjjywjpX2"
      }
    },
    {
      "cell_type": "markdown",
      "source": [
        "```\n",
        "ospf:\n",
        "  - network: 10.0.1.0 0.0.0.255\n",
        "    area: 0\n",
        "  - network: 10.0.2.0 0.0.0.255\n",
        "    area: 2\n",
        "  - network: 10.1.1.0 0.0.0.255\n",
        "    area: 0\n",
        "```\n"
      ],
      "metadata": {
        "id": "8ae7kU2Wjs4F"
      }
    },
    {
      "cell_type": "markdown",
      "source": [
        "The result of execution:"
      ],
      "metadata": {
        "id": "ijfAj-HLjxry"
      }
    },
    {
      "cell_type": "code",
      "source": [
        "from jinja2 import Environment, FileSystemLoader\n",
        "import yaml\n",
        "\n",
        "template_dir = \"templates\"\n",
        "template_file = \"test_defined.txt\"\n",
        "vars_file = 'data_files/test_defined.yml'\n",
        "\n",
        "env = Environment(\n",
        "    loader=FileSystemLoader(template_dir),\n",
        "    trim_blocks=True,\n",
        "    lstrip_blocks=True)\n",
        "template = env.get_template(template_file)\n",
        "\n",
        "with open(vars_file) as f:\n",
        "    vars_dict = yaml.safe_load(f)\n",
        "\n",
        "print(template.render(vars_dict))"
      ],
      "metadata": {
        "colab": {
          "base_uri": "https://localhost:8080/"
        },
        "id": "D0VRZXvthAIH",
        "outputId": "53be5058-5e20-45bc-c3fc-054320fc322d"
      },
      "execution_count": null,
      "outputs": [
        {
          "output_type": "stream",
          "name": "stdout",
          "text": [
            "router ospf 1\n",
            " auto-cost reference-bandwidth 10000\n",
            " network 10.0.1.0 0.0.0.255 area 0\n",
            " network 10.0.2.0 0.0.0.255 area 2\n",
            " network 10.1.1.0 0.0.0.255 area 0\n",
            "\n"
          ]
        }
      ]
    },
    {
      "cell_type": "markdown",
      "source": [
        "### iterable"
      ],
      "metadata": {
        "id": "_BBJaRJBkC2m"
      }
    },
    {
      "cell_type": "markdown",
      "source": [
        "Test iterable checks whether the object is an iterator. Due to these checks, it is possible to make branches in template which will take into account the type of variable.\n",
        "\n",
        "Template templates/test_iterable.txt (indents made to make an idea of branches more clear):"
      ],
      "metadata": {
        "id": "AvPVIPRYkJQi"
      }
    },
    {
      "cell_type": "markdown",
      "source": [
        "```\n",
        "{% for intf, params in trunks | dictsort %}\n",
        "interface {{ intf }}\n",
        " {% if params.vlans is iterable %}\n",
        "   {% if params.action == 'add' %}\n",
        " switchport trunk allowed vlan add {{ params.vlans | join(',') }}\n",
        "   {% elif params.action == 'delete' %}\n",
        " switchport trunk allowed vlan remove {{ params.vlans | join(',') }}\n",
        "   {% else %}\n",
        " switchport trunk allowed vlan {{ params.vlans | join(',') }}\n",
        "   {% endif %}\n",
        " {% else %}\n",
        "   {% if params.action == 'add' %}\n",
        " switchport trunk allowed vlan add {{ params.vlans }}\n",
        "   {% elif params.action == 'delete' %}\n",
        " switchport trunk allowed vlan remove {{ params.vlans }}\n",
        "   {% else %}\n",
        " switchport trunk allowed vlan {{ params.vlans }}\n",
        "   {% endif %}\n",
        " {% endif %}\n",
        "{% endfor %}\n",
        "```"
      ],
      "metadata": {
        "id": "KZ__D2aPkMK8"
      }
    },
    {
      "cell_type": "markdown",
      "source": [
        "Data file (data_files/test_iterable.yml):"
      ],
      "metadata": {
        "id": "YsGRBXakkRo_"
      }
    },
    {
      "cell_type": "markdown",
      "source": [
        "```\n",
        "trunks:\n",
        "  Fa0/1:\n",
        "    action: add\n",
        "    vlans:\n",
        "      - 10\n",
        "      - 20\n",
        "  Fa0/2:\n",
        "    action: only\n",
        "    vlans:\n",
        "      - 10\n",
        "      - 30\n",
        "  Fa0/3:\n",
        "    action: delete\n",
        "    vlans: 10\n",
        "```"
      ],
      "metadata": {
        "id": "kgANFt0AkULq"
      }
    },
    {
      "cell_type": "markdown",
      "source": [
        "Note the last line: vlans: 10. In this case, 10 is no longer in the list and join filter does not work. But, due to is iterable test (in this case the result will be false), in this case template goes into else branch.\n",
        "\n",
        "The result of execution:"
      ],
      "metadata": {
        "id": "FUD_3-ZakgbC"
      }
    },
    {
      "cell_type": "code",
      "source": [
        "from jinja2 import Environment, FileSystemLoader\n",
        "import yaml\n",
        "\n",
        "template_dir = \"templates\"\n",
        "template_file = \"test_iterable.txt\"\n",
        "vars_file = 'data_files/test_iterable.yml'\n",
        "\n",
        "env = Environment(\n",
        "    loader=FileSystemLoader(template_dir),\n",
        "    trim_blocks=True,\n",
        "    lstrip_blocks=True)\n",
        "template = env.get_template(template_file)\n",
        "\n",
        "with open(vars_file) as f:\n",
        "    vars_dict = yaml.safe_load(f)\n",
        "\n",
        "print(template.render(vars_dict))"
      ],
      "metadata": {
        "colab": {
          "base_uri": "https://localhost:8080/"
        },
        "id": "LNU3otTLj3ye",
        "outputId": "74b66ca2-d983-491b-ad66-289cc54e9825"
      },
      "execution_count": null,
      "outputs": [
        {
          "output_type": "stream",
          "name": "stdout",
          "text": [
            "interface Fa0/1\n",
            " switchport trunk allowed vlan add 10,20\n",
            "interface Fa0/2\n",
            " switchport trunk allowed vlan 10,30\n",
            "interface Fa0/3\n",
            " switchport trunk allowed vlan remove 10\n",
            "\n"
          ]
        }
      ]
    },
    {
      "cell_type": "markdown",
      "source": [
        "## set"
      ],
      "metadata": {
        "id": "A5mtDzXhlrkM"
      }
    },
    {
      "cell_type": "markdown",
      "source": [
        "You can assign values to variables inside template. These can be new variables or there may be modified values of variables that have been passed to template. In this way you can remember a value that for example was obtained by using several filters. Then use variable name instead of repeating all filters.\n",
        "\n",
        "Template example templates/set.txt in which set expression is used to specify shorter parameter names:"
      ],
      "metadata": {
        "id": "gWpGgKJuluu7"
      }
    },
    {
      "cell_type": "markdown",
      "source": [
        "```\n",
        "{% for intf, params in trunks | dictsort %}\n",
        " {% set vlans = params.vlans %}\n",
        " {% set action = params.action %}\n",
        "\n",
        "interface {{ intf }}\n",
        " {% if vlans is iterable %}\n",
        "  {% if action == 'add' %}\n",
        " switchport trunk allowed vlan add {{ vlans | join(',') }}\n",
        "  {% elif action == 'delete' %}\n",
        " switchport trunk allowed vlan remove {{ vlans | join(',') }}\n",
        "  {% else %}\n",
        " switchport trunk allowed vlan {{ vlans | join(',') }}\n",
        "  {% endif %}\n",
        " {% else %}\n",
        "  {% if action == 'add' %}\n",
        " switchport trunk allowed vlan add {{ vlans }}\n",
        "  {% elif action == 'delete' %}\n",
        " switchport trunk allowed vlan remove {{ vlans }}\n",
        "  {% else %}\n",
        " switchport trunk allowed vlan {{ vlans }}\n",
        "  {% endif %}\n",
        " {% endif %}\n",
        "{% endfor %}\n",
        "```"
      ],
      "metadata": {
        "id": "V4Fbf0Pll0G_"
      }
    },
    {
      "cell_type": "markdown",
      "source": [
        "Note the second and third lines:"
      ],
      "metadata": {
        "id": "Su_k9EdIl6Nt"
      }
    },
    {
      "cell_type": "markdown",
      "source": [
        "```\n",
        "{% set vlans = params.vlans %}\n",
        "{% set action = params.action %}\n",
        "```"
      ],
      "metadata": {
        "id": "bCo6HKztl8px"
      }
    },
    {
      "cell_type": "markdown",
      "source": [
        "In this way new variables are created and these new values are used. It makes template look clearer.\n",
        "\n",
        "Data file (data_files/set.yml):"
      ],
      "metadata": {
        "id": "vgwC_HiTmDZA"
      }
    },
    {
      "cell_type": "markdown",
      "source": [
        "```\n",
        "trunks:\n",
        "  Fa0/1:\n",
        "    action: add\n",
        "    vlans:\n",
        "      - 10\n",
        "      - 20\n",
        "  Fa0/2:\n",
        "    action: only\n",
        "    vlans:\n",
        "      - 10\n",
        "      - 30\n",
        "  Fa0/3:\n",
        "    action: delete\n",
        "    vlans: 10\n",
        "```"
      ],
      "metadata": {
        "id": "U2n7OLLImIEC"
      }
    },
    {
      "cell_type": "markdown",
      "source": [
        "The result of execution:"
      ],
      "metadata": {
        "id": "RhN8mx_VmN-C"
      }
    },
    {
      "cell_type": "code",
      "source": [
        "from jinja2 import Environment, FileSystemLoader\n",
        "import yaml\n",
        "\n",
        "template_dir = \"templates\"\n",
        "template_file = \"set.txt\"\n",
        "vars_file = 'data_files/set.yml'\n",
        "\n",
        "env = Environment(\n",
        "    loader=FileSystemLoader(template_dir),\n",
        "    trim_blocks=True,\n",
        "    lstrip_blocks=True)\n",
        "template = env.get_template(template_file)\n",
        "\n",
        "with open(vars_file) as f:\n",
        "    vars_dict = yaml.safe_load(f)\n",
        "\n",
        "print(template.render(vars_dict))"
      ],
      "metadata": {
        "colab": {
          "base_uri": "https://localhost:8080/"
        },
        "id": "VB9ZQo_Ulah8",
        "outputId": "172bc110-a85d-436c-889c-4ab4f84c5e92"
      },
      "execution_count": null,
      "outputs": [
        {
          "output_type": "stream",
          "name": "stdout",
          "text": [
            "\n",
            "interface Fa0/1\n",
            " switchport trunk allowed vlan add 10,20\n",
            "\n",
            "interface Fa0/2\n",
            " switchport trunk allowed vlan 10,30\n",
            "\n",
            "interface Fa0/3\n",
            " switchport trunk allowed vlan remove 10\n",
            "\n"
          ]
        }
      ]
    },
    {
      "cell_type": "markdown",
      "source": [
        "### include"
      ],
      "metadata": {
        "id": "sygDJV3TmsZI"
      }
    },
    {
      "cell_type": "markdown",
      "source": [
        "Include expression allows you to add one template to another.\n",
        "\n",
        "Variables that are transmitted as data must contain all data for both the master template and the one that is added through include.\n",
        "\n",
        "Template templates/vlans.txt:"
      ],
      "metadata": {
        "id": "R52m7VqWmwM_"
      }
    },
    {
      "cell_type": "markdown",
      "source": [
        "```\n",
        "{% for vlan, name in vlans.items() %}\n",
        "vlan {{ vlan }}\n",
        " name {{ name }}\n",
        "{% endfor %}\n",
        "```"
      ],
      "metadata": {
        "id": "URyTu90Jmyqz"
      }
    },
    {
      "cell_type": "markdown",
      "source": [
        "Template templates/ospf.txt:"
      ],
      "metadata": {
        "id": "3JhyJyTYm3JG"
      }
    },
    {
      "cell_type": "markdown",
      "source": [
        "```\n",
        "router ospf 1\n",
        " auto-cost reference-bandwidth 10000\n",
        "{% for networks in ospf %}\n",
        " network {{ networks.network }} area {{ networks.area }}\n",
        "{% endfor %}\n",
        "```"
      ],
      "metadata": {
        "id": "UIqy776Tm5pu"
      }
    },
    {
      "cell_type": "markdown",
      "source": [
        "Template templates/bgp.txt:"
      ],
      "metadata": {
        "id": "sNNGIfL6m-na"
      }
    },
    {
      "cell_type": "markdown",
      "source": [
        "```\n",
        "router bgp {{ bgp.local_as }}\n",
        "{% for ibgp in bgp.ibgp_neighbors %}\n",
        " neighbor {{ ibgp }} remote-as {{ bgp.local_as }}\n",
        " neighbor {{ ibgp }} update-source {{ bgp.loopback }}\n",
        "{% endfor %}\n",
        "{% for ebgp in bgp.ebgp_neighbors %}\n",
        " neighbor {{ ebgp }} remote-as {{ bgp.ebgp_neighbors[ebgp] }}\n",
        "{% endfor %}\n",
        "```"
      ],
      "metadata": {
        "id": "Rz2ofHElnE-6"
      }
    },
    {
      "cell_type": "markdown",
      "source": [
        "Template templates/switch.txt uses created templates ospf and vlans:"
      ],
      "metadata": {
        "id": "Sh83nNILnJeF"
      }
    },
    {
      "cell_type": "markdown",
      "source": [
        "```\n",
        "{% include 'vlans.txt' %}\n",
        "\n",
        "{% include 'ospf.txt' %}\n",
        "```"
      ],
      "metadata": {
        "id": "DsRI5mcmnNEu"
      }
    },
    {
      "cell_type": "markdown",
      "source": [
        "Data file for configuration generation (data_files/switch.yml):"
      ],
      "metadata": {
        "id": "vvqMbFETnSKh"
      }
    },
    {
      "cell_type": "markdown",
      "source": [
        "```\n",
        "vlans:\n",
        "  10: Marketing\n",
        "  20: Voice\n",
        "  30: Management\n",
        "ospf:\n",
        "  - network: 10.0.1.0 0.0.0.255\n",
        "    area: 0\n",
        "  - network: 10.0.2.0 0.0.0.255\n",
        "    area: 2\n",
        "  - network: 10.1.1.0 0.0.0.255\n",
        "    area: 0\n",
        "```"
      ],
      "metadata": {
        "id": "b_bD4xUKnWsj"
      }
    },
    {
      "cell_type": "markdown",
      "source": [
        "The result of script execution:"
      ],
      "metadata": {
        "id": "A4q0fDFAnaGT"
      }
    },
    {
      "cell_type": "code",
      "source": [
        "from jinja2 import Environment, FileSystemLoader\n",
        "import yaml\n",
        "\n",
        "template_dir = \"templates\"\n",
        "template_file = \"switch.txt\"\n",
        "vars_file = 'data_files/switch.yml'\n",
        "\n",
        "env = Environment(\n",
        "    loader=FileSystemLoader(template_dir),\n",
        "    trim_blocks=True,\n",
        "    lstrip_blocks=True)\n",
        "template = env.get_template(template_file)\n",
        "\n",
        "with open(vars_file) as f:\n",
        "    vars_dict = yaml.safe_load(f)\n",
        "\n",
        "print(template.render(vars_dict))"
      ],
      "metadata": {
        "colab": {
          "base_uri": "https://localhost:8080/"
        },
        "id": "n_ZoD8f-mVP8",
        "outputId": "de1b3646-ce4b-4dc3-ed34-2c1865b43da9"
      },
      "execution_count": null,
      "outputs": [
        {
          "output_type": "stream",
          "name": "stdout",
          "text": [
            "vlan 10\n",
            " name Marketing\n",
            "vlan 20\n",
            " name Voice\n",
            "vlan 30\n",
            " name Management\n",
            "\n",
            "router ospf 1\n",
            " auto-cost reference-bandwidth 10000\n",
            " network 10.0.1.0 0.0.0.255 area 0\n",
            " network 10.0.2.0 0.0.0.255 area 2\n",
            " network 10.1.1.0 0.0.0.255 area 0\n",
            "\n"
          ]
        }
      ]
    },
    {
      "cell_type": "markdown",
      "source": [
        "The resulting configuration is as if lines from templates ospf.txt and vlans.txt were in switch.txt template.\n",
        "\n",
        "Template templates/router.txt:"
      ],
      "metadata": {
        "id": "iH01imuSnsOb"
      }
    },
    {
      "cell_type": "markdown",
      "source": [
        "```\n",
        "{% include 'ospf.txt' %}\n",
        "\n",
        "{% include 'bgp.txt' %}\n",
        "\n",
        "logging {{ log_server }}\n",
        "```"
      ],
      "metadata": {
        "id": "m3xkQ9BHnu6u"
      }
    },
    {
      "cell_type": "markdown",
      "source": [
        "In this case, in addition to include, another line in template was added to show that include expressions can be mixed with normal template.\n",
        "\n",
        "Data file (data_files/router.yml):"
      ],
      "metadata": {
        "id": "VOHkCPlEnz0h"
      }
    },
    {
      "cell_type": "markdown",
      "source": [
        "```\n",
        "ospf:\n",
        "  - network: 10.0.1.0 0.0.0.255\n",
        "    area: 0\n",
        "  - network: 10.0.2.0 0.0.0.255\n",
        "    area: 2\n",
        "  - network: 10.1.1.0 0.0.0.255\n",
        "    area: 0\n",
        "bgp:\n",
        "  local_as: 100\n",
        "  loopback: lo100\n",
        "  ibgp_neighbors:\n",
        "    - 10.0.0.2\n",
        "    - 10.0.0.3\n",
        "  ebgp_neighbors:\n",
        "    90.1.1.1: 500\n",
        "    80.1.1.1: 600\n",
        "log_server: 10.1.1.1\n",
        "```"
      ],
      "metadata": {
        "id": "dwOaCllvpKI3"
      }
    },
    {
      "cell_type": "markdown",
      "source": [
        "The result of script execution will be:\n",
        "\n"
      ],
      "metadata": {
        "id": "NMKajApMpRox"
      }
    },
    {
      "cell_type": "code",
      "source": [
        "from jinja2 import Environment, FileSystemLoader\n",
        "import yaml\n",
        "\n",
        "template_dir = \"templates\"\n",
        "template_file = \"router.txt\"\n",
        "vars_file = 'data_files/router.yml'\n",
        "\n",
        "env = Environment(\n",
        "    loader=FileSystemLoader(template_dir),\n",
        "    trim_blocks=True,\n",
        "    lstrip_blocks=True)\n",
        "template = env.get_template(template_file)\n",
        "\n",
        "with open(vars_file) as f:\n",
        "    vars_dict = yaml.safe_load(f)\n",
        "\n",
        "print(template.render(vars_dict))"
      ],
      "metadata": {
        "colab": {
          "base_uri": "https://localhost:8080/"
        },
        "id": "HM1eQlT7nfov",
        "outputId": "53d15673-e52d-44c7-aeac-d4cf51a7d97f"
      },
      "execution_count": null,
      "outputs": [
        {
          "output_type": "stream",
          "name": "stdout",
          "text": [
            "router ospf 1\n",
            " auto-cost reference-bandwidth 10000\n",
            " network 10.0.1.0 0.0.0.255 area 0\n",
            " network 10.0.2.0 0.0.0.255 area 2\n",
            " network 10.1.1.0 0.0.0.255 area 0\n",
            "\n",
            "router bgp 100\n",
            " neighbor 10.0.0.2 remote-as 100\n",
            " neighbor 10.0.0.2 update-source lo100\n",
            " neighbor 10.0.0.3 remote-as 100\n",
            " neighbor 10.0.0.3 update-source lo100\n",
            " neighbor 90.1.1.1 remote-as 500\n",
            " neighbor 80.1.1.1 remote-as 600\n",
            "\n",
            "logging 10.1.1.1\n"
          ]
        }
      ]
    },
    {
      "cell_type": "markdown",
      "source": [
        "Thanks to include, template templates/ospf.txt is used both in template templates/switch.txt and in template templates/router.txt, instead of repeating the same thing twice."
      ],
      "metadata": {
        "id": "4YOZOYj7plxH"
      }
    },
    {
      "cell_type": "markdown",
      "source": [
        "# Template inheritance"
      ],
      "metadata": {
        "id": "NvifTp_mr5eo"
      }
    },
    {
      "cell_type": "markdown",
      "source": [
        "Template inheritance is a very powerful functionality that avoids repetition of the same in different templates.\n",
        "\n",
        "When using inheritance, there are:\n",
        "\n",
        "- base template - template that describes template skeleton.\n",
        "this template may contain any ordinary expressions or text. In addition, special blocks are defined in this template.\n",
        "- child template - template that extends base template by filling in specified blocks.\n",
        "child templates can overwrite or supplement blocks defined in base template.\n",
        "\n",
        "Example of base template templates/base_router.txt:"
      ],
      "metadata": {
        "id": "C56wNku8sF4w"
      }
    },
    {
      "cell_type": "markdown",
      "source": [
        "```\n",
        "!\n",
        "{% block services %}\n",
        "service timestamps debug datetime msec localtime show-timezone year\n",
        "service timestamps log datetime msec localtime show-timezone year\n",
        "service password-encryption\n",
        "service sequence-numbers\n",
        "{% endblock %}\n",
        "!\n",
        "no ip domain lookup\n",
        "!\n",
        "ip ssh version 2\n",
        "!\n",
        "{% block ospf %}\n",
        "router ospf 1\n",
        " auto-cost reference-bandwidth 10000\n",
        "{% endblock %}\n",
        "!\n",
        "{% block bgp %}\n",
        "{% endblock %}\n",
        "!\n",
        "{% block alias %}\n",
        "{% endblock %}\n",
        "!\n",
        "line con 0\n",
        " logging synchronous\n",
        " history size 100\n",
        "line vty 0 4\n",
        " logging synchronous\n",
        " history size 100\n",
        " transport input ssh\n",
        "!\n",
        "```"
      ],
      "metadata": {
        "id": "hnroCYTQt2LH"
      }
    },
    {
      "cell_type": "markdown",
      "source": [
        "Note four blocks that are created in template:"
      ],
      "metadata": {
        "id": "MryZo_SIuG0b"
      }
    },
    {
      "cell_type": "markdown",
      "source": [
        "```\n",
        "{% block services %}\n",
        "service timestamps debug datetime msec localtime show-timezone year\n",
        "service timestamps log datetime msec localtime show-timezone year\n",
        "service password-encryption\n",
        "service sequence-numbers\n",
        "{% endblock %}\n",
        "!\n",
        "{% block ospf %}\n",
        "router ospf 1\n",
        " auto-cost reference-bandwidth 10000\n",
        "{% endblock %}\n",
        "!\n",
        "{% block bgp %}\n",
        "{% endblock %}\n",
        "!\n",
        "{% block alias %}\n",
        "{% endblock %}\n",
        "```"
      ],
      "metadata": {
        "id": "3JM22rRcuJVI"
      }
    },
    {
      "cell_type": "markdown",
      "source": [
        "These are blanks for the corresponding configuration sections. A child template that uses this base template as a base can fill all or only some of the blocks.\n",
        "\n",
        "Child template templates/hq_router.txt:"
      ],
      "metadata": {
        "id": "T97_jSB8vUNF"
      }
    },
    {
      "cell_type": "markdown",
      "source": [
        "```\n",
        "{% extends \"base_router.txt\" %}\n",
        "\n",
        "{% block ospf %}\n",
        "{{ super() }}\n",
        "{% for networks in ospf %}\n",
        " network {{ networks.network }} area {{ networks.area }}\n",
        "{% endfor %}\n",
        "{% endblock %}\n",
        "\n",
        "{% block alias %}\n",
        "alias configure sh do sh\n",
        "alias exec ospf sh run | s ^router ospf\n",
        "alias exec bri show ip int bri | exc unass\n",
        "alias exec id show int desc\n",
        "alias exec top sh proc cpu sorted | excl 0.00%__0.00%__0.00%\n",
        "alias exec c conf t\n",
        "alias exec diff sh archive config differences nvram:startup-config system:running-config\n",
        "alias exec desc sh int desc | ex down\n",
        "{% endblock %}\n",
        "```"
      ],
      "metadata": {
        "id": "GN3uesAzvXnV"
      }
    },
    {
      "cell_type": "markdown",
      "source": [
        "The first line in template templates/hq_router.txt is very important:\n",
        "\n"
      ],
      "metadata": {
        "id": "B8cbf0UHvdce"
      }
    },
    {
      "cell_type": "markdown",
      "source": [
        "```\n",
        "{% extends \"base_router.txt\" %}\n",
        "```"
      ],
      "metadata": {
        "id": "WKqFZNjRvrfd"
      }
    },
    {
      "cell_type": "markdown",
      "source": [
        "It is said that template hq_router.txt will be constructed on the basis of template base_router.txt.\n",
        "\n",
        "Inside child template, everything happens inside blocks. Due to the blocks that have been defined in base template, child template can extend the parent template."
      ],
      "metadata": {
        "id": "XaFM-8TgvxMF"
      }
    },
    {
      "cell_type": "markdown",
      "source": [
        "Note that lines described in child template outside blocks are ignored."
      ],
      "metadata": {
        "id": "L8laWkKVv3Kx"
      }
    },
    {
      "cell_type": "markdown",
      "source": [
        "There are four blocks in base template: services, ospf, bgp, alias. In child template only two of them are filled: ospf and alias. That’s the convenience of inheritance. You don’t have to fill all blocks in every child template.\n",
        "\n",
        "In this way ospf and alias blocks are used differently. In base template, ospf block already has part of configuration:"
      ],
      "metadata": {
        "id": "isQCRQWhv64o"
      }
    },
    {
      "cell_type": "markdown",
      "source": [
        "```\n",
        "{% block ospf %}\n",
        "router ospf 1\n",
        " auto-cost reference-bandwidth 10000\n",
        "{% endblock %}\n",
        "```"
      ],
      "metadata": {
        "id": "IDGWsWovv9tT"
      }
    },
    {
      "cell_type": "markdown",
      "source": [
        "Therefore, child template has a choice: use this configuration and supplement it or completely rewrite everything in child template.\n",
        "\n",
        "In this case the configuration is supplemented. That is why in child template templates/hq_router.txt the ospf block starts with expression {{ super() }}:"
      ],
      "metadata": {
        "id": "KaMKmutbwDyq"
      }
    },
    {
      "cell_type": "markdown",
      "source": [
        "```\n",
        "{% block ospf %}\n",
        "{{ super() }}\n",
        " {% for networks in ospf %}\n",
        " network {{ networks.network }} area {{ networks.area }}\n",
        " {% endfor %}\n",
        "{% endblock %}\n",
        "```"
      ],
      "metadata": {
        "id": "0AcBCwGXwGbF"
      }
    },
    {
      "cell_type": "markdown",
      "source": [
        "{{ super() }} transfers content of this block from parent template to child template. Because of this, lines from parent are moved to child template."
      ],
      "metadata": {
        "id": "08XdBzjywLJ5"
      }
    },
    {
      "cell_type": "markdown",
      "source": [
        "Expression super doesn’t have to be at the beginning of the block. It could be anywhere in the block. Content of base template are moved to where super expression is located."
      ],
      "metadata": {
        "id": "V0PynIDtwOmp"
      }
    },
    {
      "cell_type": "markdown",
      "source": [
        "alias block simply describes the alias. And even if there were some settings in parent template, they would be substituted by content of child template.\n",
        "\n",
        "Let’s recap the rules for working with blocks. If block is created in parent template:\n",
        "\n",
        "- no content - in child template you can fill this block or ignore it. If block is filled, it will contain only what was written in child template (example - alias block)\n",
        "- with content - in child template you can perform such actions:\n",
        "    - ignore block - in this case, child template will get content from parent template (example - services block)\n",
        "    -  rewrite block - then child template will contain only what it has\n",
        "    - move content of the block from parent template and supplement it - then child template will contain both the content of the block from parent template and the content from child template. To pass content from parent template the expression {{ super() }} is used (example - ospf block)\n",
        "\n",
        "Data file for template configuration generation (data_files/hq_router.yml):"
      ],
      "metadata": {
        "id": "htLvaEG-wRmf"
      }
    },
    {
      "cell_type": "markdown",
      "source": [
        "```\n",
        "ospf:\n",
        "  - network: 10.0.1.0 0.0.0.255\n",
        "    area: 0\n",
        "  - network: 10.0.2.0 0.0.0.255\n",
        "    area: 2\n",
        "  - network: 10.1.1.0 0.0.0.255\n",
        "    area: 0\n",
        "```"
      ],
      "metadata": {
        "id": "V5-yQ3EzxfoE"
      }
    },
    {
      "cell_type": "markdown",
      "source": [
        "The result will be:"
      ],
      "metadata": {
        "id": "RBEUnIAdxjVi"
      }
    },
    {
      "cell_type": "code",
      "source": [
        "from jinja2 import Environment, FileSystemLoader\n",
        "import yaml\n",
        "\n",
        "template_dir = \"templates\"\n",
        "template_file = \"hq_router.txt\"\n",
        "vars_file = 'data_files/hq_router.yml'\n",
        "\n",
        "env = Environment(\n",
        "    loader=FileSystemLoader(template_dir),\n",
        "    trim_blocks=True,\n",
        "    lstrip_blocks=True)\n",
        "template = env.get_template(template_file)\n",
        "\n",
        "with open(vars_file) as f:\n",
        "    vars_dict = yaml.safe_load(f)\n",
        "\n",
        "print(template.render(vars_dict))"
      ],
      "metadata": {
        "colab": {
          "base_uri": "https://localhost:8080/"
        },
        "id": "nDz4wf1vpbI-",
        "outputId": "cbd0edd9-037c-4d71-a496-07e873441180"
      },
      "execution_count": null,
      "outputs": [
        {
          "output_type": "stream",
          "name": "stdout",
          "text": [
            "!\n",
            "service timestamps debug datetime msec localtime show-timezone year\n",
            "service timestamps log datetime msec localtime show-timezone year\n",
            "service password-encryption\n",
            "service sequence-numbers\n",
            "!\n",
            "no ip domain lookup\n",
            "!\n",
            "ip ssh version 2\n",
            "!\n",
            "router ospf 1\n",
            " auto-cost reference-bandwidth 10000\n",
            "\n",
            " network 10.0.1.0 0.0.0.255 area 0\n",
            " network 10.0.2.0 0.0.0.255 area 2\n",
            " network 10.1.1.0 0.0.0.255 area 0\n",
            "!\n",
            "!\n",
            "alias configure sh do sh\n",
            "alias exec ospf sh run | s ^router ospf\n",
            "alias exec bri show ip int bri | exc unass\n",
            "alias exec id show int desc\n",
            "alias exec top sh proc cpu sorted | excl 0.00%__0.00%__0.00%\n",
            "alias exec c conf t\n",
            "alias exec diff sh archive config differences nvram:startup-config system:running-config\n",
            "alias exec desc sh int desc | ex down\n",
            "!\n",
            "line con 0\n",
            " logging synchronous\n",
            " history size 100\n",
            "line vty 0 4\n",
            " logging synchronous\n",
            " history size 100\n",
            " transport input ssh\n",
            "!\n"
          ]
        }
      ]
    },
    {
      "cell_type": "markdown",
      "source": [
        "Note that in ospf block there are commands from base template and commands from child template."
      ],
      "metadata": {
        "id": "IIc_GY8nxw62"
      }
    },
    {
      "cell_type": "code",
      "source": [],
      "metadata": {
        "id": "C1p05ORkxs02"
      },
      "execution_count": null,
      "outputs": []
    }
  ]
}